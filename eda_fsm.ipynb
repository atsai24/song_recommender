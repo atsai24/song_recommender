{
 "cells": [
  {
   "cell_type": "code",
   "execution_count": 1,
   "metadata": {},
   "outputs": [
    {
     "name": "stderr",
     "output_type": "stream",
     "text": [
      "/Users/alextsai/anaconda3/lib/python3.7/site-packages/lightfm/_lightfm_fast.py:9: UserWarning: LightFM was compiled without OpenMP support. Only a single thread will be used.\n",
      "  warnings.warn('LightFM was compiled without OpenMP support. '\n"
     ]
    }
   ],
   "source": [
    "from lightfm import LightFM\n",
    "from lightfm.cross_validation import random_train_test_split\n",
    "import matplotlib.pyplot as plt\n",
    "import numpy as np\n",
    "import pandas as pd\n",
    "from scipy.sparse import csr_matrix"
   ]
  },
  {
   "cell_type": "code",
   "execution_count": 88,
   "metadata": {},
   "outputs": [
    {
     "name": "stdout",
     "output_type": "stream",
     "text": [
      "CPU times: user 31.1 s, sys: 6.28 s, total: 37.4 s\n",
      "Wall time: 38.6 s\n"
     ]
    }
   ],
   "source": [
    "%%time\n",
    "listen_data = pd.read_table('data/train_triplets.txt', header = None)\n",
    "listen_data.columns = ['user_id','item_id','listen_count']"
   ]
  },
  {
   "cell_type": "code",
   "execution_count": 5,
   "metadata": {},
   "outputs": [],
   "source": [
    "small_file = 'https://static.turi.com/datasets/millionsong/10000.txt'\n",
    "listen_data_small = pd.read_table(small_file, header = None)\n",
    "listen_data_small.columns = ['user_id','item_id','listen_count']"
   ]
  },
  {
   "cell_type": "code",
   "execution_count": 57,
   "metadata": {},
   "outputs": [],
   "source": [
    "data_small_pivot = listen_data_small.pivot(index = 'user_id',columns='item_id',values='listen_count')\n",
    "data_small_pivot = data_small_pivot.fillna(0)\n",
    "value_matrix = csr_matrix(data_small_pivot)"
   ]
  },
  {
   "cell_type": "code",
   "execution_count": 61,
   "metadata": {},
   "outputs": [],
   "source": [
    "songs = pd.DataFrame(data_small_pivot.columns)"
   ]
  },
  {
   "cell_type": "code",
   "execution_count": 76,
   "metadata": {},
   "outputs": [],
   "source": [
    "songs['title'] = [song_data.loc[song_id].title for song_id in songs.item_id]"
   ]
  },
  {
   "cell_type": "code",
   "execution_count": 83,
   "metadata": {},
   "outputs": [],
   "source": [
    "songs['artist'] = [song_data.loc[song_id].artist_name for song_id in songs.item_id]\n",
    "songs['year'] = [song_data.loc[song_id].year for song_id in songs.item_id]"
   ]
  },
  {
   "cell_type": "code",
   "execution_count": 90,
   "metadata": {},
   "outputs": [
    {
     "data": {
      "text/plain": [
       "0           SOAKIMP12A8C130995\n",
       "1           SOAPDEY12A81C210A9\n",
       "2           SOBBMDR12A8C13253B\n",
       "3           SOBFNSP12AF72A0E22\n",
       "4           SOBFOVM12A58A7D494\n",
       "                   ...        \n",
       "48373581    SOUHHHH12AF729E4AF\n",
       "48373582    SOUJVIT12A8C1451C1\n",
       "48373583    SOUSMXX12AB0185C24\n",
       "48373584    SOWYSKH12AF72A303A\n",
       "48373585    SOYYFLV12A58A7A88F\n",
       "Name: item_id, Length: 48373586, dtype: object"
      ]
     },
     "execution_count": 90,
     "metadata": {},
     "output_type": "execute_result"
    }
   ],
   "source": [
    "listen_data.item_id\n"
   ]
  },
  {
   "cell_type": "code",
   "execution_count": 86,
   "metadata": {},
   "outputs": [
    {
     "ename": "ParserError",
     "evalue": "Error tokenizing data. C error: Expected 1 fields in line 6, saw 3\n",
     "output_type": "error",
     "traceback": [
      "\u001b[0;31m---------------------------------------------------------------------------\u001b[0m",
      "\u001b[0;31mParserError\u001b[0m                               Traceback (most recent call last)",
      "\u001b[0;32m<ipython-input-86-d619c35fd3b1>\u001b[0m in \u001b[0;36m<module>\u001b[0;34m\u001b[0m\n\u001b[0;32m----> 1\u001b[0;31m \u001b[0mpd\u001b[0m\u001b[0;34m.\u001b[0m\u001b[0mread_csv\u001b[0m\u001b[0;34m(\u001b[0m\u001b[0;34m'data/msd_tagtraum_cd1.cls'\u001b[0m\u001b[0;34m)\u001b[0m\u001b[0;34m\u001b[0m\u001b[0;34m\u001b[0m\u001b[0m\n\u001b[0m",
      "\u001b[0;32m~/anaconda3/lib/python3.7/site-packages/pandas/io/parsers.py\u001b[0m in \u001b[0;36mparser_f\u001b[0;34m(filepath_or_buffer, sep, delimiter, header, names, index_col, usecols, squeeze, prefix, mangle_dupe_cols, dtype, engine, converters, true_values, false_values, skipinitialspace, skiprows, skipfooter, nrows, na_values, keep_default_na, na_filter, verbose, skip_blank_lines, parse_dates, infer_datetime_format, keep_date_col, date_parser, dayfirst, cache_dates, iterator, chunksize, compression, thousands, decimal, lineterminator, quotechar, quoting, doublequote, escapechar, comment, encoding, dialect, error_bad_lines, warn_bad_lines, delim_whitespace, low_memory, memory_map, float_precision)\u001b[0m\n\u001b[1;32m    674\u001b[0m         )\n\u001b[1;32m    675\u001b[0m \u001b[0;34m\u001b[0m\u001b[0m\n\u001b[0;32m--> 676\u001b[0;31m         \u001b[0;32mreturn\u001b[0m \u001b[0m_read\u001b[0m\u001b[0;34m(\u001b[0m\u001b[0mfilepath_or_buffer\u001b[0m\u001b[0;34m,\u001b[0m \u001b[0mkwds\u001b[0m\u001b[0;34m)\u001b[0m\u001b[0;34m\u001b[0m\u001b[0;34m\u001b[0m\u001b[0m\n\u001b[0m\u001b[1;32m    677\u001b[0m \u001b[0;34m\u001b[0m\u001b[0m\n\u001b[1;32m    678\u001b[0m     \u001b[0mparser_f\u001b[0m\u001b[0;34m.\u001b[0m\u001b[0m__name__\u001b[0m \u001b[0;34m=\u001b[0m \u001b[0mname\u001b[0m\u001b[0;34m\u001b[0m\u001b[0;34m\u001b[0m\u001b[0m\n",
      "\u001b[0;32m~/anaconda3/lib/python3.7/site-packages/pandas/io/parsers.py\u001b[0m in \u001b[0;36m_read\u001b[0;34m(filepath_or_buffer, kwds)\u001b[0m\n\u001b[1;32m    452\u001b[0m \u001b[0;34m\u001b[0m\u001b[0m\n\u001b[1;32m    453\u001b[0m     \u001b[0;32mtry\u001b[0m\u001b[0;34m:\u001b[0m\u001b[0;34m\u001b[0m\u001b[0;34m\u001b[0m\u001b[0m\n\u001b[0;32m--> 454\u001b[0;31m         \u001b[0mdata\u001b[0m \u001b[0;34m=\u001b[0m \u001b[0mparser\u001b[0m\u001b[0;34m.\u001b[0m\u001b[0mread\u001b[0m\u001b[0;34m(\u001b[0m\u001b[0mnrows\u001b[0m\u001b[0;34m)\u001b[0m\u001b[0;34m\u001b[0m\u001b[0;34m\u001b[0m\u001b[0m\n\u001b[0m\u001b[1;32m    455\u001b[0m     \u001b[0;32mfinally\u001b[0m\u001b[0;34m:\u001b[0m\u001b[0;34m\u001b[0m\u001b[0;34m\u001b[0m\u001b[0m\n\u001b[1;32m    456\u001b[0m         \u001b[0mparser\u001b[0m\u001b[0;34m.\u001b[0m\u001b[0mclose\u001b[0m\u001b[0;34m(\u001b[0m\u001b[0;34m)\u001b[0m\u001b[0;34m\u001b[0m\u001b[0;34m\u001b[0m\u001b[0m\n",
      "\u001b[0;32m~/anaconda3/lib/python3.7/site-packages/pandas/io/parsers.py\u001b[0m in \u001b[0;36mread\u001b[0;34m(self, nrows)\u001b[0m\n\u001b[1;32m   1131\u001b[0m     \u001b[0;32mdef\u001b[0m \u001b[0mread\u001b[0m\u001b[0;34m(\u001b[0m\u001b[0mself\u001b[0m\u001b[0;34m,\u001b[0m \u001b[0mnrows\u001b[0m\u001b[0;34m=\u001b[0m\u001b[0;32mNone\u001b[0m\u001b[0;34m)\u001b[0m\u001b[0;34m:\u001b[0m\u001b[0;34m\u001b[0m\u001b[0;34m\u001b[0m\u001b[0m\n\u001b[1;32m   1132\u001b[0m         \u001b[0mnrows\u001b[0m \u001b[0;34m=\u001b[0m \u001b[0m_validate_integer\u001b[0m\u001b[0;34m(\u001b[0m\u001b[0;34m\"nrows\"\u001b[0m\u001b[0;34m,\u001b[0m \u001b[0mnrows\u001b[0m\u001b[0;34m)\u001b[0m\u001b[0;34m\u001b[0m\u001b[0;34m\u001b[0m\u001b[0m\n\u001b[0;32m-> 1133\u001b[0;31m         \u001b[0mret\u001b[0m \u001b[0;34m=\u001b[0m \u001b[0mself\u001b[0m\u001b[0;34m.\u001b[0m\u001b[0m_engine\u001b[0m\u001b[0;34m.\u001b[0m\u001b[0mread\u001b[0m\u001b[0;34m(\u001b[0m\u001b[0mnrows\u001b[0m\u001b[0;34m)\u001b[0m\u001b[0;34m\u001b[0m\u001b[0;34m\u001b[0m\u001b[0m\n\u001b[0m\u001b[1;32m   1134\u001b[0m \u001b[0;34m\u001b[0m\u001b[0m\n\u001b[1;32m   1135\u001b[0m         \u001b[0;31m# May alter columns / col_dict\u001b[0m\u001b[0;34m\u001b[0m\u001b[0;34m\u001b[0m\u001b[0;34m\u001b[0m\u001b[0m\n",
      "\u001b[0;32m~/anaconda3/lib/python3.7/site-packages/pandas/io/parsers.py\u001b[0m in \u001b[0;36mread\u001b[0;34m(self, nrows)\u001b[0m\n\u001b[1;32m   2035\u001b[0m     \u001b[0;32mdef\u001b[0m \u001b[0mread\u001b[0m\u001b[0;34m(\u001b[0m\u001b[0mself\u001b[0m\u001b[0;34m,\u001b[0m \u001b[0mnrows\u001b[0m\u001b[0;34m=\u001b[0m\u001b[0;32mNone\u001b[0m\u001b[0;34m)\u001b[0m\u001b[0;34m:\u001b[0m\u001b[0;34m\u001b[0m\u001b[0;34m\u001b[0m\u001b[0m\n\u001b[1;32m   2036\u001b[0m         \u001b[0;32mtry\u001b[0m\u001b[0;34m:\u001b[0m\u001b[0;34m\u001b[0m\u001b[0;34m\u001b[0m\u001b[0m\n\u001b[0;32m-> 2037\u001b[0;31m             \u001b[0mdata\u001b[0m \u001b[0;34m=\u001b[0m \u001b[0mself\u001b[0m\u001b[0;34m.\u001b[0m\u001b[0m_reader\u001b[0m\u001b[0;34m.\u001b[0m\u001b[0mread\u001b[0m\u001b[0;34m(\u001b[0m\u001b[0mnrows\u001b[0m\u001b[0;34m)\u001b[0m\u001b[0;34m\u001b[0m\u001b[0;34m\u001b[0m\u001b[0m\n\u001b[0m\u001b[1;32m   2038\u001b[0m         \u001b[0;32mexcept\u001b[0m \u001b[0mStopIteration\u001b[0m\u001b[0;34m:\u001b[0m\u001b[0;34m\u001b[0m\u001b[0;34m\u001b[0m\u001b[0m\n\u001b[1;32m   2039\u001b[0m             \u001b[0;32mif\u001b[0m \u001b[0mself\u001b[0m\u001b[0;34m.\u001b[0m\u001b[0m_first_chunk\u001b[0m\u001b[0;34m:\u001b[0m\u001b[0;34m\u001b[0m\u001b[0;34m\u001b[0m\u001b[0m\n",
      "\u001b[0;32mpandas/_libs/parsers.pyx\u001b[0m in \u001b[0;36mpandas._libs.parsers.TextReader.read\u001b[0;34m()\u001b[0m\n",
      "\u001b[0;32mpandas/_libs/parsers.pyx\u001b[0m in \u001b[0;36mpandas._libs.parsers.TextReader._read_low_memory\u001b[0;34m()\u001b[0m\n",
      "\u001b[0;32mpandas/_libs/parsers.pyx\u001b[0m in \u001b[0;36mpandas._libs.parsers.TextReader._read_rows\u001b[0;34m()\u001b[0m\n",
      "\u001b[0;32mpandas/_libs/parsers.pyx\u001b[0m in \u001b[0;36mpandas._libs.parsers.TextReader._tokenize_rows\u001b[0;34m()\u001b[0m\n",
      "\u001b[0;32mpandas/_libs/parsers.pyx\u001b[0m in \u001b[0;36mpandas._libs.parsers.raise_parser_error\u001b[0;34m()\u001b[0m\n",
      "\u001b[0;31mParserError\u001b[0m: Error tokenizing data. C error: Expected 1 fields in line 6, saw 3\n"
     ]
    }
   ],
   "source": [
    "pd.read_csv('data/msd_tagtraum_cd1.cls')"
   ]
  },
  {
   "cell_type": "code",
   "execution_count": 40,
   "metadata": {},
   "outputs": [
    {
     "data": {
      "text/plain": [
       "array([[0., 0., 0., ..., 0., 0., 0.],\n",
       "       [0., 0., 0., ..., 0., 0., 0.],\n",
       "       [0., 0., 0., ..., 0., 0., 0.],\n",
       "       ...,\n",
       "       [0., 0., 0., ..., 0., 0., 0.],\n",
       "       [0., 0., 0., ..., 0., 0., 0.],\n",
       "       [0., 0., 0., ..., 0., 0., 0.]])"
      ]
     },
     "execution_count": 40,
     "metadata": {},
     "output_type": "execute_result"
    }
   ],
   "source": [
    "value_matrix.toarray()"
   ]
  },
  {
   "cell_type": "code",
   "execution_count": 47,
   "metadata": {},
   "outputs": [
    {
     "data": {
      "text/html": [
       "<div>\n",
       "<style scoped>\n",
       "    .dataframe tbody tr th:only-of-type {\n",
       "        vertical-align: middle;\n",
       "    }\n",
       "\n",
       "    .dataframe tbody tr th {\n",
       "        vertical-align: top;\n",
       "    }\n",
       "\n",
       "    .dataframe thead th {\n",
       "        text-align: right;\n",
       "    }\n",
       "</style>\n",
       "<table border=\"1\" class=\"dataframe\">\n",
       "  <thead>\n",
       "    <tr style=\"text-align: right;\">\n",
       "      <th></th>\n",
       "      <th>title</th>\n",
       "      <th>release</th>\n",
       "      <th>artist_name</th>\n",
       "      <th>year</th>\n",
       "    </tr>\n",
       "    <tr>\n",
       "      <th>song_id</th>\n",
       "      <th></th>\n",
       "      <th></th>\n",
       "      <th></th>\n",
       "      <th></th>\n",
       "    </tr>\n",
       "  </thead>\n",
       "  <tbody>\n",
       "    <tr>\n",
       "      <th>SOQMMHC12AB0180CB8</th>\n",
       "      <td>Silent Night</td>\n",
       "      <td>Monster Ballads X-Mas</td>\n",
       "      <td>Faster Pussy cat</td>\n",
       "      <td>2003</td>\n",
       "    </tr>\n",
       "    <tr>\n",
       "      <th>SOVFVAK12A8C1350D9</th>\n",
       "      <td>Tanssi vaan</td>\n",
       "      <td>Karkuteillä</td>\n",
       "      <td>Karkkiautomaatti</td>\n",
       "      <td>1995</td>\n",
       "    </tr>\n",
       "    <tr>\n",
       "      <th>SOGTUKN12AB017F4F1</th>\n",
       "      <td>No One Could Ever</td>\n",
       "      <td>Butter</td>\n",
       "      <td>Hudson Mohawke</td>\n",
       "      <td>2006</td>\n",
       "    </tr>\n",
       "    <tr>\n",
       "      <th>SOBNYVR12A8C13558C</th>\n",
       "      <td>Si Vos Querés</td>\n",
       "      <td>De Culo</td>\n",
       "      <td>Yerba Brava</td>\n",
       "      <td>2003</td>\n",
       "    </tr>\n",
       "    <tr>\n",
       "      <th>SOHSBXH12A8C13B0DF</th>\n",
       "      <td>Tangle Of Aspens</td>\n",
       "      <td>Rene Ablaze Presents Winter Sessions</td>\n",
       "      <td>Der Mystic</td>\n",
       "      <td>0</td>\n",
       "    </tr>\n",
       "    <tr>\n",
       "      <th>...</th>\n",
       "      <td>...</td>\n",
       "      <td>...</td>\n",
       "      <td>...</td>\n",
       "      <td>...</td>\n",
       "    </tr>\n",
       "    <tr>\n",
       "      <th>SOTXAME12AB018F136</th>\n",
       "      <td>O Samba Da Vida</td>\n",
       "      <td>Pacha V.I.P.</td>\n",
       "      <td>Kiko Navarro</td>\n",
       "      <td>0</td>\n",
       "    </tr>\n",
       "    <tr>\n",
       "      <th>SOXQYIQ12A8C137FBB</th>\n",
       "      <td>Jago Chhadeo</td>\n",
       "      <td>Naale Baba Lassi Pee Gya</td>\n",
       "      <td>Kuldeep Manak</td>\n",
       "      <td>0</td>\n",
       "    </tr>\n",
       "    <tr>\n",
       "      <th>SOHODZI12A8C137BB3</th>\n",
       "      <td>Novemba</td>\n",
       "      <td>Dub_Connected: electronic music</td>\n",
       "      <td>Gabriel Le Mar</td>\n",
       "      <td>0</td>\n",
       "    </tr>\n",
       "    <tr>\n",
       "      <th>SOLXGOR12A81C21EB7</th>\n",
       "      <td>Faraday</td>\n",
       "      <td>The Trance Collection Vol. 2</td>\n",
       "      <td>Elude</td>\n",
       "      <td>0</td>\n",
       "    </tr>\n",
       "    <tr>\n",
       "      <th>SOWXJXQ12AB0189F43</th>\n",
       "      <td>Fernweh feat. Sektion Kuchikäschtli</td>\n",
       "      <td>So Oder So</td>\n",
       "      <td>Texta</td>\n",
       "      <td>2004</td>\n",
       "    </tr>\n",
       "  </tbody>\n",
       "</table>\n",
       "<p>1000000 rows × 4 columns</p>\n",
       "</div>"
      ],
      "text/plain": [
       "                                                  title  \\\n",
       "song_id                                                   \n",
       "SOQMMHC12AB0180CB8                         Silent Night   \n",
       "SOVFVAK12A8C1350D9                          Tanssi vaan   \n",
       "SOGTUKN12AB017F4F1                    No One Could Ever   \n",
       "SOBNYVR12A8C13558C                        Si Vos Querés   \n",
       "SOHSBXH12A8C13B0DF                     Tangle Of Aspens   \n",
       "...                                                 ...   \n",
       "SOTXAME12AB018F136                      O Samba Da Vida   \n",
       "SOXQYIQ12A8C137FBB                         Jago Chhadeo   \n",
       "SOHODZI12A8C137BB3                              Novemba   \n",
       "SOLXGOR12A81C21EB7                              Faraday   \n",
       "SOWXJXQ12AB0189F43  Fernweh feat. Sektion Kuchikäschtli   \n",
       "\n",
       "                                                 release       artist_name  \\\n",
       "song_id                                                                      \n",
       "SOQMMHC12AB0180CB8                 Monster Ballads X-Mas  Faster Pussy cat   \n",
       "SOVFVAK12A8C1350D9                           Karkuteillä  Karkkiautomaatti   \n",
       "SOGTUKN12AB017F4F1                                Butter    Hudson Mohawke   \n",
       "SOBNYVR12A8C13558C                               De Culo       Yerba Brava   \n",
       "SOHSBXH12A8C13B0DF  Rene Ablaze Presents Winter Sessions        Der Mystic   \n",
       "...                                                  ...               ...   \n",
       "SOTXAME12AB018F136                          Pacha V.I.P.      Kiko Navarro   \n",
       "SOXQYIQ12A8C137FBB              Naale Baba Lassi Pee Gya     Kuldeep Manak   \n",
       "SOHODZI12A8C137BB3       Dub_Connected: electronic music    Gabriel Le Mar   \n",
       "SOLXGOR12A81C21EB7          The Trance Collection Vol. 2             Elude   \n",
       "SOWXJXQ12AB0189F43                            So Oder So             Texta   \n",
       "\n",
       "                    year  \n",
       "song_id                   \n",
       "SOQMMHC12AB0180CB8  2003  \n",
       "SOVFVAK12A8C1350D9  1995  \n",
       "SOGTUKN12AB017F4F1  2006  \n",
       "SOBNYVR12A8C13558C  2003  \n",
       "SOHSBXH12A8C13B0DF     0  \n",
       "...                  ...  \n",
       "SOTXAME12AB018F136     0  \n",
       "SOXQYIQ12A8C137FBB     0  \n",
       "SOHODZI12A8C137BB3     0  \n",
       "SOLXGOR12A81C21EB7     0  \n",
       "SOWXJXQ12AB0189F43  2004  \n",
       "\n",
       "[1000000 rows x 4 columns]"
      ]
     },
     "execution_count": 47,
     "metadata": {},
     "output_type": "execute_result"
    }
   ],
   "source": [
    "song_data = pd.read_csv('data/song_data (1).csv', index_col=0)\n",
    "song_data"
   ]
  },
  {
   "cell_type": "code",
   "execution_count": 72,
   "metadata": {},
   "outputs": [
    {
     "data": {
      "text/plain": [
       "<lightfm.lightfm.LightFM at 0x11d014290>"
      ]
     },
     "execution_count": 72,
     "metadata": {},
     "output_type": "execute_result"
    }
   ],
   "source": [
    "model_fm = LightFM(loss = 'warp')\n",
    "model_fm.fit(value_matrix, epochs = 20)"
   ]
  },
  {
   "cell_type": "code",
   "execution_count": 50,
   "metadata": {},
   "outputs": [],
   "source": [
    "song_df = pd.merge(listen_data_small, song_data.drop_duplicates(), left_on=\"item_id\", right_index=True,how=\"left\")"
   ]
  },
  {
   "cell_type": "code",
   "execution_count": 54,
   "metadata": {},
   "outputs": [
    {
     "data": {
      "text/html": [
       "<div>\n",
       "<style scoped>\n",
       "    .dataframe tbody tr th:only-of-type {\n",
       "        vertical-align: middle;\n",
       "    }\n",
       "\n",
       "    .dataframe tbody tr th {\n",
       "        vertical-align: top;\n",
       "    }\n",
       "\n",
       "    .dataframe thead th {\n",
       "        text-align: right;\n",
       "    }\n",
       "</style>\n",
       "<table border=\"1\" class=\"dataframe\">\n",
       "  <thead>\n",
       "    <tr style=\"text-align: right;\">\n",
       "      <th></th>\n",
       "      <th>user_id</th>\n",
       "      <th>item_id</th>\n",
       "      <th>listen_count</th>\n",
       "      <th>title</th>\n",
       "      <th>release</th>\n",
       "      <th>artist_name</th>\n",
       "      <th>year</th>\n",
       "    </tr>\n",
       "  </thead>\n",
       "  <tbody>\n",
       "    <tr>\n",
       "      <th>0</th>\n",
       "      <td>b80344d063b5ccb3212f76538f3d9e43d87dca9e</td>\n",
       "      <td>SOAKIMP12A8C130995</td>\n",
       "      <td>1</td>\n",
       "      <td>The Cove</td>\n",
       "      <td>Thicker Than Water</td>\n",
       "      <td>Jack Johnson</td>\n",
       "      <td>0.0</td>\n",
       "    </tr>\n",
       "    <tr>\n",
       "      <th>1</th>\n",
       "      <td>b80344d063b5ccb3212f76538f3d9e43d87dca9e</td>\n",
       "      <td>SOBBMDR12A8C13253B</td>\n",
       "      <td>2</td>\n",
       "      <td>Entre Dos Aguas</td>\n",
       "      <td>Flamenco Para Niños</td>\n",
       "      <td>Paco De Lucia</td>\n",
       "      <td>1976.0</td>\n",
       "    </tr>\n",
       "    <tr>\n",
       "      <th>2</th>\n",
       "      <td>b80344d063b5ccb3212f76538f3d9e43d87dca9e</td>\n",
       "      <td>SOBXHDL12A81C204C0</td>\n",
       "      <td>1</td>\n",
       "      <td>Stronger</td>\n",
       "      <td>Graduation</td>\n",
       "      <td>Kanye West</td>\n",
       "      <td>2007.0</td>\n",
       "    </tr>\n",
       "    <tr>\n",
       "      <th>3</th>\n",
       "      <td>b80344d063b5ccb3212f76538f3d9e43d87dca9e</td>\n",
       "      <td>SOBYHAJ12A6701BF1D</td>\n",
       "      <td>1</td>\n",
       "      <td>Constellations</td>\n",
       "      <td>In Between Dreams</td>\n",
       "      <td>Jack Johnson</td>\n",
       "      <td>2005.0</td>\n",
       "    </tr>\n",
       "    <tr>\n",
       "      <th>4</th>\n",
       "      <td>b80344d063b5ccb3212f76538f3d9e43d87dca9e</td>\n",
       "      <td>SODACBL12A8C13C273</td>\n",
       "      <td>1</td>\n",
       "      <td>Learn To Fly</td>\n",
       "      <td>There Is Nothing Left To Lose</td>\n",
       "      <td>Foo Fighters</td>\n",
       "      <td>1999.0</td>\n",
       "    </tr>\n",
       "    <tr>\n",
       "      <th>...</th>\n",
       "      <td>...</td>\n",
       "      <td>...</td>\n",
       "      <td>...</td>\n",
       "      <td>...</td>\n",
       "      <td>...</td>\n",
       "      <td>...</td>\n",
       "      <td>...</td>\n",
       "    </tr>\n",
       "    <tr>\n",
       "      <th>1999995</th>\n",
       "      <td>d8bfd4ec88f0f3773a9e022e3c1a0f1d3b7b6a92</td>\n",
       "      <td>SOJEYPO12AAA8C6B0E</td>\n",
       "      <td>2</td>\n",
       "      <td>Ignorance (Album Version)</td>\n",
       "      <td>Ignorance</td>\n",
       "      <td>Paramore</td>\n",
       "      <td>0.0</td>\n",
       "    </tr>\n",
       "    <tr>\n",
       "      <th>1999996</th>\n",
       "      <td>d8bfd4ec88f0f3773a9e022e3c1a0f1d3b7b6a92</td>\n",
       "      <td>SOJJYDE12AF729FC16</td>\n",
       "      <td>4</td>\n",
       "      <td>Two Is Better Than One</td>\n",
       "      <td>Love Drunk</td>\n",
       "      <td>Boys Like Girls featuring Taylor Swift</td>\n",
       "      <td>2009.0</td>\n",
       "    </tr>\n",
       "    <tr>\n",
       "      <th>1999997</th>\n",
       "      <td>d8bfd4ec88f0f3773a9e022e3c1a0f1d3b7b6a92</td>\n",
       "      <td>SOJKQSF12A6D4F5EE9</td>\n",
       "      <td>3</td>\n",
       "      <td>What I've Done (Album Version)</td>\n",
       "      <td>What I've Done</td>\n",
       "      <td>Linkin Park</td>\n",
       "      <td>2007.0</td>\n",
       "    </tr>\n",
       "    <tr>\n",
       "      <th>1999998</th>\n",
       "      <td>d8bfd4ec88f0f3773a9e022e3c1a0f1d3b7b6a92</td>\n",
       "      <td>SOJUXGA12AC961885C</td>\n",
       "      <td>1</td>\n",
       "      <td>Up</td>\n",
       "      <td>My Worlds</td>\n",
       "      <td>Justin Bieber</td>\n",
       "      <td>2010.0</td>\n",
       "    </tr>\n",
       "    <tr>\n",
       "      <th>1999999</th>\n",
       "      <td>d8bfd4ec88f0f3773a9e022e3c1a0f1d3b7b6a92</td>\n",
       "      <td>SOJYOLS12A8C13C06F</td>\n",
       "      <td>1</td>\n",
       "      <td>Soil_ Soil (Album Version)</td>\n",
       "      <td>The Con</td>\n",
       "      <td>Tegan And Sara</td>\n",
       "      <td>2007.0</td>\n",
       "    </tr>\n",
       "  </tbody>\n",
       "</table>\n",
       "<p>2049948 rows × 7 columns</p>\n",
       "</div>"
      ],
      "text/plain": [
       "                                          user_id             item_id  \\\n",
       "0        b80344d063b5ccb3212f76538f3d9e43d87dca9e  SOAKIMP12A8C130995   \n",
       "1        b80344d063b5ccb3212f76538f3d9e43d87dca9e  SOBBMDR12A8C13253B   \n",
       "2        b80344d063b5ccb3212f76538f3d9e43d87dca9e  SOBXHDL12A81C204C0   \n",
       "3        b80344d063b5ccb3212f76538f3d9e43d87dca9e  SOBYHAJ12A6701BF1D   \n",
       "4        b80344d063b5ccb3212f76538f3d9e43d87dca9e  SODACBL12A8C13C273   \n",
       "...                                           ...                 ...   \n",
       "1999995  d8bfd4ec88f0f3773a9e022e3c1a0f1d3b7b6a92  SOJEYPO12AAA8C6B0E   \n",
       "1999996  d8bfd4ec88f0f3773a9e022e3c1a0f1d3b7b6a92  SOJJYDE12AF729FC16   \n",
       "1999997  d8bfd4ec88f0f3773a9e022e3c1a0f1d3b7b6a92  SOJKQSF12A6D4F5EE9   \n",
       "1999998  d8bfd4ec88f0f3773a9e022e3c1a0f1d3b7b6a92  SOJUXGA12AC961885C   \n",
       "1999999  d8bfd4ec88f0f3773a9e022e3c1a0f1d3b7b6a92  SOJYOLS12A8C13C06F   \n",
       "\n",
       "         listen_count                           title  \\\n",
       "0                   1                        The Cove   \n",
       "1                   2                 Entre Dos Aguas   \n",
       "2                   1                        Stronger   \n",
       "3                   1                  Constellations   \n",
       "4                   1                    Learn To Fly   \n",
       "...               ...                             ...   \n",
       "1999995             2       Ignorance (Album Version)   \n",
       "1999996             4          Two Is Better Than One   \n",
       "1999997             3  What I've Done (Album Version)   \n",
       "1999998             1                              Up   \n",
       "1999999             1      Soil_ Soil (Album Version)   \n",
       "\n",
       "                               release  \\\n",
       "0                   Thicker Than Water   \n",
       "1                  Flamenco Para Niños   \n",
       "2                           Graduation   \n",
       "3                    In Between Dreams   \n",
       "4        There Is Nothing Left To Lose   \n",
       "...                                ...   \n",
       "1999995                      Ignorance   \n",
       "1999996                     Love Drunk   \n",
       "1999997                 What I've Done   \n",
       "1999998                      My Worlds   \n",
       "1999999                        The Con   \n",
       "\n",
       "                                    artist_name    year  \n",
       "0                                  Jack Johnson     0.0  \n",
       "1                                 Paco De Lucia  1976.0  \n",
       "2                                    Kanye West  2007.0  \n",
       "3                                  Jack Johnson  2005.0  \n",
       "4                                  Foo Fighters  1999.0  \n",
       "...                                         ...     ...  \n",
       "1999995                                Paramore     0.0  \n",
       "1999996  Boys Like Girls featuring Taylor Swift  2009.0  \n",
       "1999997                             Linkin Park  2007.0  \n",
       "1999998                           Justin Bieber  2010.0  \n",
       "1999999                          Tegan And Sara  2007.0  \n",
       "\n",
       "[2049948 rows x 7 columns]"
      ]
     },
     "execution_count": 54,
     "metadata": {},
     "output_type": "execute_result"
    }
   ],
   "source": [
    "song_df"
   ]
  },
  {
   "cell_type": "code",
   "execution_count": 55,
   "metadata": {},
   "outputs": [],
   "source": [
    "users = song_df['user_id'].unique()\n"
   ]
  },
  {
   "cell_type": "code",
   "execution_count": 32,
   "metadata": {},
   "outputs": [
    {
     "ename": "KeyError",
     "evalue": "'song'",
     "output_type": "error",
     "traceback": [
      "\u001b[0;31m---------------------------------------------------------------------------\u001b[0m",
      "\u001b[0;31mKeyError\u001b[0m                                  Traceback (most recent call last)",
      "\u001b[0;32m<ipython-input-32-3fa64e27fb74>\u001b[0m in \u001b[0;36m<module>\u001b[0;34m\u001b[0m\n\u001b[0;32m----> 1\u001b[0;31m \u001b[0msong_grouped\u001b[0m \u001b[0;34m=\u001b[0m \u001b[0msong_df\u001b[0m\u001b[0;34m.\u001b[0m\u001b[0mgroupby\u001b[0m\u001b[0;34m(\u001b[0m\u001b[0;34m[\u001b[0m\u001b[0;34m'song'\u001b[0m\u001b[0;34m]\u001b[0m\u001b[0;34m)\u001b[0m\u001b[0;34m.\u001b[0m\u001b[0magg\u001b[0m\u001b[0;34m(\u001b[0m\u001b[0;34m{\u001b[0m\u001b[0;34m'listen_count'\u001b[0m\u001b[0;34m:\u001b[0m \u001b[0;34m'count'\u001b[0m\u001b[0;34m}\u001b[0m\u001b[0;34m)\u001b[0m\u001b[0;34m.\u001b[0m\u001b[0mreset_index\u001b[0m\u001b[0;34m(\u001b[0m\u001b[0;34m)\u001b[0m\u001b[0;34m\u001b[0m\u001b[0;34m\u001b[0m\u001b[0m\n\u001b[0m\u001b[1;32m      2\u001b[0m \u001b[0mgrouped_sum\u001b[0m \u001b[0;34m=\u001b[0m \u001b[0msong_grouped\u001b[0m\u001b[0;34m[\u001b[0m\u001b[0;34m'listen_count'\u001b[0m\u001b[0;34m]\u001b[0m\u001b[0;34m.\u001b[0m\u001b[0msum\u001b[0m\u001b[0;34m(\u001b[0m\u001b[0;34m)\u001b[0m\u001b[0;34m\u001b[0m\u001b[0;34m\u001b[0m\u001b[0m\n\u001b[1;32m      3\u001b[0m \u001b[0msong_grouped\u001b[0m\u001b[0;34m[\u001b[0m\u001b[0;34m'percentage'\u001b[0m\u001b[0;34m]\u001b[0m  \u001b[0;34m=\u001b[0m \u001b[0msong_grouped\u001b[0m\u001b[0;34m[\u001b[0m\u001b[0;34m'listen_count'\u001b[0m\u001b[0;34m]\u001b[0m\u001b[0;34m.\u001b[0m\u001b[0mdiv\u001b[0m\u001b[0;34m(\u001b[0m\u001b[0mgrouped_sum\u001b[0m\u001b[0;34m)\u001b[0m\u001b[0;34m*\u001b[0m\u001b[0;36m100\u001b[0m\u001b[0;34m\u001b[0m\u001b[0;34m\u001b[0m\u001b[0m\n\u001b[1;32m      4\u001b[0m \u001b[0msong_grouped\u001b[0m\u001b[0;34m.\u001b[0m\u001b[0msort_values\u001b[0m\u001b[0;34m(\u001b[0m\u001b[0;34m[\u001b[0m\u001b[0;34m'listen_count'\u001b[0m\u001b[0;34m,\u001b[0m \u001b[0;34m'song'\u001b[0m\u001b[0;34m]\u001b[0m\u001b[0;34m,\u001b[0m \u001b[0mascending\u001b[0m \u001b[0;34m=\u001b[0m \u001b[0;34m[\u001b[0m\u001b[0;36m0\u001b[0m\u001b[0;34m,\u001b[0m\u001b[0;36m1\u001b[0m\u001b[0;34m]\u001b[0m\u001b[0;34m)\u001b[0m\u001b[0;34m\u001b[0m\u001b[0;34m\u001b[0m\u001b[0m\n",
      "\u001b[0;32m~/anaconda3/lib/python3.7/site-packages/pandas/core/frame.py\u001b[0m in \u001b[0;36mgroupby\u001b[0;34m(self, by, axis, level, as_index, sort, group_keys, squeeze, observed)\u001b[0m\n\u001b[1;32m   5808\u001b[0m             \u001b[0mgroup_keys\u001b[0m\u001b[0;34m=\u001b[0m\u001b[0mgroup_keys\u001b[0m\u001b[0;34m,\u001b[0m\u001b[0;34m\u001b[0m\u001b[0;34m\u001b[0m\u001b[0m\n\u001b[1;32m   5809\u001b[0m             \u001b[0msqueeze\u001b[0m\u001b[0;34m=\u001b[0m\u001b[0msqueeze\u001b[0m\u001b[0;34m,\u001b[0m\u001b[0;34m\u001b[0m\u001b[0;34m\u001b[0m\u001b[0m\n\u001b[0;32m-> 5810\u001b[0;31m             \u001b[0mobserved\u001b[0m\u001b[0;34m=\u001b[0m\u001b[0mobserved\u001b[0m\u001b[0;34m,\u001b[0m\u001b[0;34m\u001b[0m\u001b[0;34m\u001b[0m\u001b[0m\n\u001b[0m\u001b[1;32m   5811\u001b[0m         )\n\u001b[1;32m   5812\u001b[0m \u001b[0;34m\u001b[0m\u001b[0m\n",
      "\u001b[0;32m~/anaconda3/lib/python3.7/site-packages/pandas/core/groupby/groupby.py\u001b[0m in \u001b[0;36m__init__\u001b[0;34m(self, obj, keys, axis, level, grouper, exclusions, selection, as_index, sort, group_keys, squeeze, observed, mutated)\u001b[0m\n\u001b[1;32m    408\u001b[0m                 \u001b[0msort\u001b[0m\u001b[0;34m=\u001b[0m\u001b[0msort\u001b[0m\u001b[0;34m,\u001b[0m\u001b[0;34m\u001b[0m\u001b[0;34m\u001b[0m\u001b[0m\n\u001b[1;32m    409\u001b[0m                 \u001b[0mobserved\u001b[0m\u001b[0;34m=\u001b[0m\u001b[0mobserved\u001b[0m\u001b[0;34m,\u001b[0m\u001b[0;34m\u001b[0m\u001b[0;34m\u001b[0m\u001b[0m\n\u001b[0;32m--> 410\u001b[0;31m                 \u001b[0mmutated\u001b[0m\u001b[0;34m=\u001b[0m\u001b[0mself\u001b[0m\u001b[0;34m.\u001b[0m\u001b[0mmutated\u001b[0m\u001b[0;34m,\u001b[0m\u001b[0;34m\u001b[0m\u001b[0;34m\u001b[0m\u001b[0m\n\u001b[0m\u001b[1;32m    411\u001b[0m             )\n\u001b[1;32m    412\u001b[0m \u001b[0;34m\u001b[0m\u001b[0m\n",
      "\u001b[0;32m~/anaconda3/lib/python3.7/site-packages/pandas/core/groupby/grouper.py\u001b[0m in \u001b[0;36mget_grouper\u001b[0;34m(obj, key, axis, level, sort, observed, mutated, validate)\u001b[0m\n\u001b[1;32m    598\u001b[0m                 \u001b[0min_axis\u001b[0m\u001b[0;34m,\u001b[0m \u001b[0mname\u001b[0m\u001b[0;34m,\u001b[0m \u001b[0mlevel\u001b[0m\u001b[0;34m,\u001b[0m \u001b[0mgpr\u001b[0m \u001b[0;34m=\u001b[0m \u001b[0;32mFalse\u001b[0m\u001b[0;34m,\u001b[0m \u001b[0;32mNone\u001b[0m\u001b[0;34m,\u001b[0m \u001b[0mgpr\u001b[0m\u001b[0;34m,\u001b[0m \u001b[0;32mNone\u001b[0m\u001b[0;34m\u001b[0m\u001b[0;34m\u001b[0m\u001b[0m\n\u001b[1;32m    599\u001b[0m             \u001b[0;32melse\u001b[0m\u001b[0;34m:\u001b[0m\u001b[0;34m\u001b[0m\u001b[0;34m\u001b[0m\u001b[0m\n\u001b[0;32m--> 600\u001b[0;31m                 \u001b[0;32mraise\u001b[0m \u001b[0mKeyError\u001b[0m\u001b[0;34m(\u001b[0m\u001b[0mgpr\u001b[0m\u001b[0;34m)\u001b[0m\u001b[0;34m\u001b[0m\u001b[0;34m\u001b[0m\u001b[0m\n\u001b[0m\u001b[1;32m    601\u001b[0m         \u001b[0;32melif\u001b[0m \u001b[0misinstance\u001b[0m\u001b[0;34m(\u001b[0m\u001b[0mgpr\u001b[0m\u001b[0;34m,\u001b[0m \u001b[0mGrouper\u001b[0m\u001b[0;34m)\u001b[0m \u001b[0;32mand\u001b[0m \u001b[0mgpr\u001b[0m\u001b[0;34m.\u001b[0m\u001b[0mkey\u001b[0m \u001b[0;32mis\u001b[0m \u001b[0;32mnot\u001b[0m \u001b[0;32mNone\u001b[0m\u001b[0;34m:\u001b[0m\u001b[0;34m\u001b[0m\u001b[0;34m\u001b[0m\u001b[0m\n\u001b[1;32m    602\u001b[0m             \u001b[0;31m# Add key to exclusions\u001b[0m\u001b[0;34m\u001b[0m\u001b[0;34m\u001b[0m\u001b[0;34m\u001b[0m\u001b[0m\n",
      "\u001b[0;31mKeyError\u001b[0m: 'song'"
     ]
    }
   ],
   "source": [
    "song_grouped = song_df.groupby(['song']).agg({'listen_count': 'count'}).reset_index()\n",
    "grouped_sum = song_grouped['listen_count'].sum()\n",
    "song_grouped['percentage']  = song_grouped['listen_count'].div(grouped_sum)*100\n",
    "song_grouped.sort_values(['listen_count', 'song'], ascending = [0,1])\n"
   ]
  },
  {
   "cell_type": "code",
   "execution_count": 57,
   "metadata": {},
   "outputs": [
    {
     "data": {
      "text/plain": [
       "10000"
      ]
     },
     "execution_count": 57,
     "metadata": {},
     "output_type": "execute_result"
    }
   ],
   "source": [
    "len(songs)"
   ]
  },
  {
   "cell_type": "code",
   "execution_count": 34,
   "metadata": {},
   "outputs": [
    {
     "data": {
      "text/html": [
       "<div>\n",
       "<style scoped>\n",
       "    .dataframe tbody tr th:only-of-type {\n",
       "        vertical-align: middle;\n",
       "    }\n",
       "\n",
       "    .dataframe tbody tr th {\n",
       "        vertical-align: top;\n",
       "    }\n",
       "\n",
       "    .dataframe thead th {\n",
       "        text-align: right;\n",
       "    }\n",
       "</style>\n",
       "<table border=\"1\" class=\"dataframe\">\n",
       "  <thead>\n",
       "    <tr style=\"text-align: right;\">\n",
       "      <th></th>\n",
       "      <th>song_id</th>\n",
       "      <th>title</th>\n",
       "      <th>release</th>\n",
       "      <th>artist_name</th>\n",
       "      <th>year</th>\n",
       "    </tr>\n",
       "  </thead>\n",
       "  <tbody>\n",
       "    <tr>\n",
       "      <th>0</th>\n",
       "      <td>SOQMMHC12AB0180CB8</td>\n",
       "      <td>Silent Night</td>\n",
       "      <td>Monster Ballads X-Mas</td>\n",
       "      <td>Faster Pussy cat</td>\n",
       "      <td>2003</td>\n",
       "    </tr>\n",
       "    <tr>\n",
       "      <th>1</th>\n",
       "      <td>SOVFVAK12A8C1350D9</td>\n",
       "      <td>Tanssi vaan</td>\n",
       "      <td>Karkuteillä</td>\n",
       "      <td>Karkkiautomaatti</td>\n",
       "      <td>1995</td>\n",
       "    </tr>\n",
       "    <tr>\n",
       "      <th>2</th>\n",
       "      <td>SOGTUKN12AB017F4F1</td>\n",
       "      <td>No One Could Ever</td>\n",
       "      <td>Butter</td>\n",
       "      <td>Hudson Mohawke</td>\n",
       "      <td>2006</td>\n",
       "    </tr>\n",
       "    <tr>\n",
       "      <th>3</th>\n",
       "      <td>SOBNYVR12A8C13558C</td>\n",
       "      <td>Si Vos Querés</td>\n",
       "      <td>De Culo</td>\n",
       "      <td>Yerba Brava</td>\n",
       "      <td>2003</td>\n",
       "    </tr>\n",
       "    <tr>\n",
       "      <th>4</th>\n",
       "      <td>SOHSBXH12A8C13B0DF</td>\n",
       "      <td>Tangle Of Aspens</td>\n",
       "      <td>Rene Ablaze Presents Winter Sessions</td>\n",
       "      <td>Der Mystic</td>\n",
       "      <td>0</td>\n",
       "    </tr>\n",
       "    <tr>\n",
       "      <th>...</th>\n",
       "      <td>...</td>\n",
       "      <td>...</td>\n",
       "      <td>...</td>\n",
       "      <td>...</td>\n",
       "      <td>...</td>\n",
       "    </tr>\n",
       "    <tr>\n",
       "      <th>999995</th>\n",
       "      <td>SOTXAME12AB018F136</td>\n",
       "      <td>O Samba Da Vida</td>\n",
       "      <td>Pacha V.I.P.</td>\n",
       "      <td>Kiko Navarro</td>\n",
       "      <td>0</td>\n",
       "    </tr>\n",
       "    <tr>\n",
       "      <th>999996</th>\n",
       "      <td>SOXQYIQ12A8C137FBB</td>\n",
       "      <td>Jago Chhadeo</td>\n",
       "      <td>Naale Baba Lassi Pee Gya</td>\n",
       "      <td>Kuldeep Manak</td>\n",
       "      <td>0</td>\n",
       "    </tr>\n",
       "    <tr>\n",
       "      <th>999997</th>\n",
       "      <td>SOHODZI12A8C137BB3</td>\n",
       "      <td>Novemba</td>\n",
       "      <td>Dub_Connected: electronic music</td>\n",
       "      <td>Gabriel Le Mar</td>\n",
       "      <td>0</td>\n",
       "    </tr>\n",
       "    <tr>\n",
       "      <th>999998</th>\n",
       "      <td>SOLXGOR12A81C21EB7</td>\n",
       "      <td>Faraday</td>\n",
       "      <td>The Trance Collection Vol. 2</td>\n",
       "      <td>Elude</td>\n",
       "      <td>0</td>\n",
       "    </tr>\n",
       "    <tr>\n",
       "      <th>999999</th>\n",
       "      <td>SOWXJXQ12AB0189F43</td>\n",
       "      <td>Fernweh feat. Sektion Kuchikäschtli</td>\n",
       "      <td>So Oder So</td>\n",
       "      <td>Texta</td>\n",
       "      <td>2004</td>\n",
       "    </tr>\n",
       "  </tbody>\n",
       "</table>\n",
       "<p>1000000 rows × 5 columns</p>\n",
       "</div>"
      ],
      "text/plain": [
       "                   song_id                                title  \\\n",
       "0       SOQMMHC12AB0180CB8                         Silent Night   \n",
       "1       SOVFVAK12A8C1350D9                          Tanssi vaan   \n",
       "2       SOGTUKN12AB017F4F1                    No One Could Ever   \n",
       "3       SOBNYVR12A8C13558C                        Si Vos Querés   \n",
       "4       SOHSBXH12A8C13B0DF                     Tangle Of Aspens   \n",
       "...                    ...                                  ...   \n",
       "999995  SOTXAME12AB018F136                      O Samba Da Vida   \n",
       "999996  SOXQYIQ12A8C137FBB                         Jago Chhadeo   \n",
       "999997  SOHODZI12A8C137BB3                              Novemba   \n",
       "999998  SOLXGOR12A81C21EB7                              Faraday   \n",
       "999999  SOWXJXQ12AB0189F43  Fernweh feat. Sektion Kuchikäschtli   \n",
       "\n",
       "                                     release       artist_name  year  \n",
       "0                      Monster Ballads X-Mas  Faster Pussy cat  2003  \n",
       "1                                Karkuteillä  Karkkiautomaatti  1995  \n",
       "2                                     Butter    Hudson Mohawke  2006  \n",
       "3                                    De Culo       Yerba Brava  2003  \n",
       "4       Rene Ablaze Presents Winter Sessions        Der Mystic     0  \n",
       "...                                      ...               ...   ...  \n",
       "999995                          Pacha V.I.P.      Kiko Navarro     0  \n",
       "999996              Naale Baba Lassi Pee Gya     Kuldeep Manak     0  \n",
       "999997       Dub_Connected: electronic music    Gabriel Le Mar     0  \n",
       "999998          The Trance Collection Vol. 2             Elude     0  \n",
       "999999                            So Oder So             Texta  2004  \n",
       "\n",
       "[1000000 rows x 5 columns]"
      ]
     },
     "execution_count": 34,
     "metadata": {},
     "output_type": "execute_result"
    }
   ],
   "source": [
    "song_data"
   ]
  },
  {
   "cell_type": "code",
   "execution_count": 81,
   "metadata": {},
   "outputs": [],
   "source": [
    "def sample_recommendation(model, user_ids):\n",
    "    n_users, n_items = value_matrix.shape\n",
    "    for user_id in user_ids:\n",
    "        known_positives = songs.iloc[value_matrix[user_id].indices].title\n",
    "        \n",
    "        scores = model.predict(user_id, np.arange(n_items))\n",
    "\n",
    "        top_items = songs.iloc[np.argsort(-scores)].title\n",
    "\n",
    "        print(\"User %s\" % user_id)\n",
    "        print(\"     Known positives:\")\n",
    "        \n",
    "        for x in known_positives[:3]:\n",
    "            print(\"        %s\" % x)\n",
    "        \n",
    "        print(\"     Recommended:\")\n",
    "        \n",
    "        for x in top_items[:3]:\n",
    "            print(\"        %s\" % x)"
   ]
  },
  {
   "cell_type": "code",
   "execution_count": 68,
   "metadata": {},
   "outputs": [
    {
     "data": {
      "text/plain": [
       "array([3731, 4125, 5146, 5228, 8366, 8375, 8866], dtype=int32)"
      ]
     },
     "execution_count": 68,
     "metadata": {},
     "output_type": "execute_result"
    }
   ],
   "source": [
    "value_matrix[0].indices"
   ]
  },
  {
   "cell_type": "code",
   "execution_count": 69,
   "metadata": {},
   "outputs": [
    {
     "data": {
      "text/plain": [
       "item_id    SOJJRVI12A6D4FBE49\n",
       "Name: 3731, dtype: object"
      ]
     },
     "execution_count": 69,
     "metadata": {},
     "output_type": "execute_result"
    }
   ],
   "source": [
    "songs.iloc[3731]"
   ]
  },
  {
   "cell_type": "code",
   "execution_count": null,
   "metadata": {},
   "outputs": [],
   "source": []
  },
  {
   "cell_type": "code",
   "execution_count": 133,
   "metadata": {},
   "outputs": [],
   "source": [
    "score = model_fm.predict(9, np.arange(10000))"
   ]
  },
  {
   "cell_type": "code",
   "execution_count": 150,
   "metadata": {},
   "outputs": [
    {
     "data": {
      "text/plain": [
       "array([-0.6577996 , -0.33380014, -1.10026658, ..., -1.95935917,\n",
       "       -2.24011326, -1.65542388])"
      ]
     },
     "execution_count": 150,
     "metadata": {},
     "output_type": "execute_result"
    }
   ],
   "source": [
    "score"
   ]
  },
  {
   "cell_type": "code",
   "execution_count": 153,
   "metadata": {},
   "outputs": [],
   "source": [
    "rank = model_fm.predict_rank(value_matrix)"
   ]
  },
  {
   "cell_type": "code",
   "execution_count": 160,
   "metadata": {},
   "outputs": [
    {
     "data": {
      "text/plain": [
       "0.0"
      ]
     },
     "execution_count": 160,
     "metadata": {},
     "output_type": "execute_result"
    }
   ],
   "source": [
    "rank.toarray()[0,1]"
   ]
  },
  {
   "cell_type": "code",
   "execution_count": 135,
   "metadata": {},
   "outputs": [
    {
     "data": {
      "text/plain": [
       "array([8772, 9678, 2220, ..., 7694, 1136, 5431])"
      ]
     },
     "execution_count": 135,
     "metadata": {},
     "output_type": "execute_result"
    }
   ],
   "source": [
    "np.argsort(-score)"
   ]
  },
  {
   "cell_type": "code",
   "execution_count": 136,
   "metadata": {},
   "outputs": [
    {
     "data": {
      "text/plain": [
       "array(['SOXAUYB12B0B8078C4', 'SOFWUMY12A6D4FCFB1', 'SOCQSDB12A6D4FA5D2',\n",
       "       ..., 'SONJNCV12A6D4F95AC', 'SOEOLGZ12A8C134706',\n",
       "       'SOWWWFF12A6701C7EB'], dtype=object)"
      ]
     },
     "execution_count": 136,
     "metadata": {},
     "output_type": "execute_result"
    }
   ],
   "source": [
    "songs[np.argsort(-score)]"
   ]
  },
  {
   "cell_type": "code",
   "execution_count": 137,
   "metadata": {},
   "outputs": [
    {
     "data": {
      "text/plain": [
       "array([8772, 9678, 2220, ..., 7694, 1136, 5431])"
      ]
     },
     "execution_count": 137,
     "metadata": {},
     "output_type": "execute_result"
    }
   ],
   "source": [
    "np.argsort(-score)"
   ]
  },
  {
   "cell_type": "code",
   "execution_count": 82,
   "metadata": {},
   "outputs": [
    {
     "name": "stdout",
     "output_type": "stream",
     "text": [
      "User 0\n",
      "     Known positives:\n",
      "        Only You (Illuminate Album Version)\n",
      "        Do You Want To Know Love (Pray For Rain Album Version)\n",
      "        You're A Wolf (Album)\n",
      "     Recommended:\n",
      "        Canada\n",
      "        Tive Sim\n",
      "        Dog Days Are Over (Radio Edit)\n",
      "User 5\n",
      "     Known positives:\n",
      "        Nightlite (Zero dB Reconstruction - Radio Edit)\n",
      "        All In Forms\n",
      "        Triumphant\n",
      "     Recommended:\n",
      "        Paradise Circus\n",
      "        Atlas Air\n",
      "        This Old House w/ When The Saints Medley\n",
      "User 90\n",
      "     Known positives:\n",
      "        Hey (Album Version)\n",
      "        Sin Documentos\n",
      "        Dog Days Are Over (Radio Edit)\n",
      "     Recommended:\n",
      "        The Scientist\n",
      "        Clocks\n",
      "        song_id\n",
      "SOPXKYD12A6D4FA876    Yellow\n",
      "SOPXKYD12A6D4FA876    Yellow\n",
      "Name: title, dtype: object\n"
     ]
    }
   ],
   "source": [
    "sample_recommendation(model_fm, [0,5,90])"
   ]
  },
  {
   "cell_type": "code",
   "execution_count": 71,
   "metadata": {},
   "outputs": [
    {
     "data": {
      "text/plain": [
       "array([0, 1, 2, 3, 4, 5, 6, 7, 8, 9])"
      ]
     },
     "execution_count": 71,
     "metadata": {},
     "output_type": "execute_result"
    }
   ],
   "source": [
    "np.arange(10)"
   ]
  },
  {
   "cell_type": "code",
   "execution_count": 148,
   "metadata": {},
   "outputs": [
    {
     "data": {
      "text/html": [
       "<div>\n",
       "<style scoped>\n",
       "    .dataframe tbody tr th:only-of-type {\n",
       "        vertical-align: middle;\n",
       "    }\n",
       "\n",
       "    .dataframe tbody tr th {\n",
       "        vertical-align: top;\n",
       "    }\n",
       "\n",
       "    .dataframe thead th {\n",
       "        text-align: right;\n",
       "    }\n",
       "</style>\n",
       "<table border=\"1\" class=\"dataframe\">\n",
       "  <thead>\n",
       "    <tr style=\"text-align: right;\">\n",
       "      <th></th>\n",
       "      <th>user_id</th>\n",
       "      <th>item_id</th>\n",
       "      <th>listen_count</th>\n",
       "      <th>song_id</th>\n",
       "      <th>title</th>\n",
       "      <th>release</th>\n",
       "      <th>artist_name</th>\n",
       "      <th>year</th>\n",
       "    </tr>\n",
       "  </thead>\n",
       "  <tbody>\n",
       "    <tr>\n",
       "      <th>14263</th>\n",
       "      <td>e9b86ca8cd62f072419112174f1a9427dd40aed7</td>\n",
       "      <td>SOOPZGS12A8AE4571D</td>\n",
       "      <td>2</td>\n",
       "      <td>SOOPZGS12A8AE4571D</td>\n",
       "      <td>Long Division (Album Version)</td>\n",
       "      <td>Narrow Stairs</td>\n",
       "      <td>Death Cab for Cutie</td>\n",
       "      <td>2008</td>\n",
       "    </tr>\n",
       "    <tr>\n",
       "      <th>33872</th>\n",
       "      <td>470c65144c49b122c4be2ea008cba342b7af2a9d</td>\n",
       "      <td>SOOPZGS12A8AE4571D</td>\n",
       "      <td>1</td>\n",
       "      <td>SOOPZGS12A8AE4571D</td>\n",
       "      <td>Long Division (Album Version)</td>\n",
       "      <td>Narrow Stairs</td>\n",
       "      <td>Death Cab for Cutie</td>\n",
       "      <td>2008</td>\n",
       "    </tr>\n",
       "    <tr>\n",
       "      <th>36543</th>\n",
       "      <td>34c327464b7c8eaf912e6ba37cadcb64514b5900</td>\n",
       "      <td>SOOPZGS12A8AE4571D</td>\n",
       "      <td>2</td>\n",
       "      <td>SOOPZGS12A8AE4571D</td>\n",
       "      <td>Long Division (Album Version)</td>\n",
       "      <td>Narrow Stairs</td>\n",
       "      <td>Death Cab for Cutie</td>\n",
       "      <td>2008</td>\n",
       "    </tr>\n",
       "    <tr>\n",
       "      <th>72793</th>\n",
       "      <td>56761a8994c50ff4269fef0052dc075e1bf2688a</td>\n",
       "      <td>SOOPZGS12A8AE4571D</td>\n",
       "      <td>1</td>\n",
       "      <td>SOOPZGS12A8AE4571D</td>\n",
       "      <td>Long Division (Album Version)</td>\n",
       "      <td>Narrow Stairs</td>\n",
       "      <td>Death Cab for Cutie</td>\n",
       "      <td>2008</td>\n",
       "    </tr>\n",
       "    <tr>\n",
       "      <th>96983</th>\n",
       "      <td>4ec767712349220570ac2346c66a2a02c730eb2e</td>\n",
       "      <td>SOOPZGS12A8AE4571D</td>\n",
       "      <td>3</td>\n",
       "      <td>SOOPZGS12A8AE4571D</td>\n",
       "      <td>Long Division (Album Version)</td>\n",
       "      <td>Narrow Stairs</td>\n",
       "      <td>Death Cab for Cutie</td>\n",
       "      <td>2008</td>\n",
       "    </tr>\n",
       "    <tr>\n",
       "      <th>...</th>\n",
       "      <td>...</td>\n",
       "      <td>...</td>\n",
       "      <td>...</td>\n",
       "      <td>...</td>\n",
       "      <td>...</td>\n",
       "      <td>...</td>\n",
       "      <td>...</td>\n",
       "      <td>...</td>\n",
       "    </tr>\n",
       "    <tr>\n",
       "      <th>1910342</th>\n",
       "      <td>29bce3ce70f3e22e4a8c305314e7400517a96ec8</td>\n",
       "      <td>SOOPZGS12A8AE4571D</td>\n",
       "      <td>3</td>\n",
       "      <td>SOOPZGS12A8AE4571D</td>\n",
       "      <td>Long Division (Album Version)</td>\n",
       "      <td>Narrow Stairs</td>\n",
       "      <td>Death Cab for Cutie</td>\n",
       "      <td>2008</td>\n",
       "    </tr>\n",
       "    <tr>\n",
       "      <th>1938292</th>\n",
       "      <td>d71e62620b160d8c83e11d0a2b2cee50cf263892</td>\n",
       "      <td>SOOPZGS12A8AE4571D</td>\n",
       "      <td>1</td>\n",
       "      <td>SOOPZGS12A8AE4571D</td>\n",
       "      <td>Long Division (Album Version)</td>\n",
       "      <td>Narrow Stairs</td>\n",
       "      <td>Death Cab for Cutie</td>\n",
       "      <td>2008</td>\n",
       "    </tr>\n",
       "    <tr>\n",
       "      <th>1971935</th>\n",
       "      <td>24b98f8ab023f6e7a1c37c7729c623f7b821eb95</td>\n",
       "      <td>SOOPZGS12A8AE4571D</td>\n",
       "      <td>1</td>\n",
       "      <td>SOOPZGS12A8AE4571D</td>\n",
       "      <td>Long Division (Album Version)</td>\n",
       "      <td>Narrow Stairs</td>\n",
       "      <td>Death Cab for Cutie</td>\n",
       "      <td>2008</td>\n",
       "    </tr>\n",
       "    <tr>\n",
       "      <th>1972799</th>\n",
       "      <td>17444da967c6d8b38c59f7ad124fc3925d138a8c</td>\n",
       "      <td>SOOPZGS12A8AE4571D</td>\n",
       "      <td>1</td>\n",
       "      <td>SOOPZGS12A8AE4571D</td>\n",
       "      <td>Long Division (Album Version)</td>\n",
       "      <td>Narrow Stairs</td>\n",
       "      <td>Death Cab for Cutie</td>\n",
       "      <td>2008</td>\n",
       "    </tr>\n",
       "    <tr>\n",
       "      <th>1980274</th>\n",
       "      <td>4936c19ee81b586edebbd5cf58bea097d1a342c1</td>\n",
       "      <td>SOOPZGS12A8AE4571D</td>\n",
       "      <td>1</td>\n",
       "      <td>SOOPZGS12A8AE4571D</td>\n",
       "      <td>Long Division (Album Version)</td>\n",
       "      <td>Narrow Stairs</td>\n",
       "      <td>Death Cab for Cutie</td>\n",
       "      <td>2008</td>\n",
       "    </tr>\n",
       "  </tbody>\n",
       "</table>\n",
       "<p>105 rows × 8 columns</p>\n",
       "</div>"
      ],
      "text/plain": [
       "                                          user_id             item_id  \\\n",
       "14263    e9b86ca8cd62f072419112174f1a9427dd40aed7  SOOPZGS12A8AE4571D   \n",
       "33872    470c65144c49b122c4be2ea008cba342b7af2a9d  SOOPZGS12A8AE4571D   \n",
       "36543    34c327464b7c8eaf912e6ba37cadcb64514b5900  SOOPZGS12A8AE4571D   \n",
       "72793    56761a8994c50ff4269fef0052dc075e1bf2688a  SOOPZGS12A8AE4571D   \n",
       "96983    4ec767712349220570ac2346c66a2a02c730eb2e  SOOPZGS12A8AE4571D   \n",
       "...                                           ...                 ...   \n",
       "1910342  29bce3ce70f3e22e4a8c305314e7400517a96ec8  SOOPZGS12A8AE4571D   \n",
       "1938292  d71e62620b160d8c83e11d0a2b2cee50cf263892  SOOPZGS12A8AE4571D   \n",
       "1971935  24b98f8ab023f6e7a1c37c7729c623f7b821eb95  SOOPZGS12A8AE4571D   \n",
       "1972799  17444da967c6d8b38c59f7ad124fc3925d138a8c  SOOPZGS12A8AE4571D   \n",
       "1980274  4936c19ee81b586edebbd5cf58bea097d1a342c1  SOOPZGS12A8AE4571D   \n",
       "\n",
       "         listen_count             song_id                          title  \\\n",
       "14263               2  SOOPZGS12A8AE4571D  Long Division (Album Version)   \n",
       "33872               1  SOOPZGS12A8AE4571D  Long Division (Album Version)   \n",
       "36543               2  SOOPZGS12A8AE4571D  Long Division (Album Version)   \n",
       "72793               1  SOOPZGS12A8AE4571D  Long Division (Album Version)   \n",
       "96983               3  SOOPZGS12A8AE4571D  Long Division (Album Version)   \n",
       "...               ...                 ...                            ...   \n",
       "1910342             3  SOOPZGS12A8AE4571D  Long Division (Album Version)   \n",
       "1938292             1  SOOPZGS12A8AE4571D  Long Division (Album Version)   \n",
       "1971935             1  SOOPZGS12A8AE4571D  Long Division (Album Version)   \n",
       "1972799             1  SOOPZGS12A8AE4571D  Long Division (Album Version)   \n",
       "1980274             1  SOOPZGS12A8AE4571D  Long Division (Album Version)   \n",
       "\n",
       "               release          artist_name  year  \n",
       "14263    Narrow Stairs  Death Cab for Cutie  2008  \n",
       "33872    Narrow Stairs  Death Cab for Cutie  2008  \n",
       "36543    Narrow Stairs  Death Cab for Cutie  2008  \n",
       "72793    Narrow Stairs  Death Cab for Cutie  2008  \n",
       "96983    Narrow Stairs  Death Cab for Cutie  2008  \n",
       "...                ...                  ...   ...  \n",
       "1910342  Narrow Stairs  Death Cab for Cutie  2008  \n",
       "1938292  Narrow Stairs  Death Cab for Cutie  2008  \n",
       "1971935  Narrow Stairs  Death Cab for Cutie  2008  \n",
       "1972799  Narrow Stairs  Death Cab for Cutie  2008  \n",
       "1980274  Narrow Stairs  Death Cab for Cutie  2008  \n",
       "\n",
       "[105 rows x 8 columns]"
      ]
     },
     "execution_count": 148,
     "metadata": {},
     "output_type": "execute_result"
    }
   ],
   "source": [
    "song_df[song_df.song_id == 'SOOPZGS12A8AE4571D']"
   ]
  },
  {
   "cell_type": "code",
   "execution_count": 118,
   "metadata": {},
   "outputs": [
    {
     "data": {
      "text/html": [
       "<div>\n",
       "<style scoped>\n",
       "    .dataframe tbody tr th:only-of-type {\n",
       "        vertical-align: middle;\n",
       "    }\n",
       "\n",
       "    .dataframe tbody tr th {\n",
       "        vertical-align: top;\n",
       "    }\n",
       "\n",
       "    .dataframe thead th {\n",
       "        text-align: right;\n",
       "    }\n",
       "</style>\n",
       "<table border=\"1\" class=\"dataframe\">\n",
       "  <thead>\n",
       "    <tr style=\"text-align: right;\">\n",
       "      <th></th>\n",
       "      <th>listen_count</th>\n",
       "      <th>year</th>\n",
       "    </tr>\n",
       "    <tr>\n",
       "      <th>song_id</th>\n",
       "      <th></th>\n",
       "      <th></th>\n",
       "    </tr>\n",
       "  </thead>\n",
       "  <tbody>\n",
       "    <tr>\n",
       "      <th>SOBONKR12A58A7A7E0</th>\n",
       "      <td>54136</td>\n",
       "      <td>12759880</td>\n",
       "    </tr>\n",
       "    <tr>\n",
       "      <th>SOAUWYT12A81C206F1</th>\n",
       "      <td>49253</td>\n",
       "      <td>14071032</td>\n",
       "    </tr>\n",
       "    <tr>\n",
       "      <th>SOSXLTC12AF72A7F54</th>\n",
       "      <td>41418</td>\n",
       "      <td>12339160</td>\n",
       "    </tr>\n",
       "    <tr>\n",
       "      <th>SOEGIYH12A6D4FC0E3</th>\n",
       "      <td>31153</td>\n",
       "      <td>0</td>\n",
       "    </tr>\n",
       "    <tr>\n",
       "      <th>SOFRQTD12A81C233C0</th>\n",
       "      <td>31036</td>\n",
       "      <td>0</td>\n",
       "    </tr>\n",
       "    <tr>\n",
       "      <th>...</th>\n",
       "      <td>...</td>\n",
       "      <td>...</td>\n",
       "    </tr>\n",
       "    <tr>\n",
       "      <th>SOAKZQA12A6D4F80C1</th>\n",
       "      <td>76</td>\n",
       "      <td>129610</td>\n",
       "    </tr>\n",
       "    <tr>\n",
       "      <th>SOSLEFC12A6D4FC740</th>\n",
       "      <td>75</td>\n",
       "      <td>0</td>\n",
       "    </tr>\n",
       "    <tr>\n",
       "      <th>SOENALO12AB01836F5</th>\n",
       "      <td>73</td>\n",
       "      <td>120060</td>\n",
       "    </tr>\n",
       "    <tr>\n",
       "      <th>SONQGQE12A670209BC</th>\n",
       "      <td>73</td>\n",
       "      <td>124310</td>\n",
       "    </tr>\n",
       "    <tr>\n",
       "      <th>SOJYVPY12A67ADE729</th>\n",
       "      <td>71</td>\n",
       "      <td>130325</td>\n",
       "    </tr>\n",
       "  </tbody>\n",
       "</table>\n",
       "<p>10000 rows × 2 columns</p>\n",
       "</div>"
      ],
      "text/plain": [
       "                    listen_count      year\n",
       "song_id                                   \n",
       "SOBONKR12A58A7A7E0         54136  12759880\n",
       "SOAUWYT12A81C206F1         49253  14071032\n",
       "SOSXLTC12AF72A7F54         41418  12339160\n",
       "SOEGIYH12A6D4FC0E3         31153         0\n",
       "SOFRQTD12A81C233C0         31036         0\n",
       "...                          ...       ...\n",
       "SOAKZQA12A6D4F80C1            76    129610\n",
       "SOSLEFC12A6D4FC740            75         0\n",
       "SOENALO12AB01836F5            73    120060\n",
       "SONQGQE12A670209BC            73    124310\n",
       "SOJYVPY12A67ADE729            71    130325\n",
       "\n",
       "[10000 rows x 2 columns]"
      ]
     },
     "execution_count": 118,
     "metadata": {},
     "output_type": "execute_result"
    }
   ],
   "source": [
    "song_df.groupby('song_id').sum().sort_values(by='listen_count', ascending=False)"
   ]
  },
  {
   "cell_type": "markdown",
   "metadata": {},
   "source": [
    "## TRAIN TEST SPLIT"
   ]
  },
  {
   "cell_type": "code",
   "execution_count": 20,
   "metadata": {},
   "outputs": [],
   "source": [
    "from lightfm.evaluation import auc_score, precision_at_k, recall_at_k, reciprocal_rank\n"
   ]
  },
  {
   "cell_type": "code",
   "execution_count": 8,
   "metadata": {},
   "outputs": [],
   "source": [
    "state = np.random.RandomState(seed = 1)"
   ]
  },
  {
   "cell_type": "code",
   "execution_count": 9,
   "metadata": {},
   "outputs": [],
   "source": [
    "train, test = random_train_test_split(value_matrix, random_state = state)"
   ]
  },
  {
   "cell_type": "code",
   "execution_count": 10,
   "metadata": {},
   "outputs": [],
   "source": [
    "model = LightFM(loss = 'warp',random_state = 42)\n"
   ]
  },
  {
   "cell_type": "code",
   "execution_count": 27,
   "metadata": {},
   "outputs": [
    {
     "data": {
      "text/plain": [
       "<lightfm.lightfm.LightFM at 0x1030bf8d0>"
      ]
     },
     "execution_count": 27,
     "metadata": {},
     "output_type": "execute_result"
    }
   ],
   "source": [
    "model.fit(train, epochs = 20)"
   ]
  },
  {
   "cell_type": "code",
   "execution_count": 28,
   "metadata": {},
   "outputs": [],
   "source": [
    "aucs = auc_score(model, test, train_interactions= train)"
   ]
  },
  {
   "cell_type": "code",
   "execution_count": 30,
   "metadata": {},
   "outputs": [
    {
     "data": {
      "text/plain": [
       "0.8695011"
      ]
     },
     "execution_count": 30,
     "metadata": {},
     "output_type": "execute_result"
    }
   ],
   "source": [
    "aucs.mean()"
   ]
  },
  {
   "cell_type": "code",
   "execution_count": 33,
   "metadata": {},
   "outputs": [],
   "source": [
    "precs = precision_at_k(model, test ,train_interactions=train, k = 10)"
   ]
  },
  {
   "cell_type": "code",
   "execution_count": 35,
   "metadata": {},
   "outputs": [],
   "source": [
    "train_prec = precision_at_k(model, train)"
   ]
  },
  {
   "cell_type": "code",
   "execution_count": 34,
   "metadata": {},
   "outputs": [
    {
     "data": {
      "text/plain": [
       "0.041643262"
      ]
     },
     "execution_count": 34,
     "metadata": {},
     "output_type": "execute_result"
    }
   ],
   "source": [
    "precs.mean()"
   ]
  },
  {
   "cell_type": "code",
   "execution_count": 36,
   "metadata": {},
   "outputs": [
    {
     "data": {
      "text/plain": [
       "0.12874672"
      ]
     },
     "execution_count": 36,
     "metadata": {},
     "output_type": "execute_result"
    }
   ],
   "source": [
    "train_prec.mean()"
   ]
  },
  {
   "cell_type": "code",
   "execution_count": 32,
   "metadata": {},
   "outputs": [
    {
     "data": {
      "text/plain": [
       "array([0.  , 0.06, 0.02, ..., 0.  , 0.  , 0.08], dtype=float32)"
      ]
     },
     "execution_count": 32,
     "metadata": {},
     "output_type": "execute_result"
    }
   ],
   "source": [
    "precs"
   ]
  },
  {
   "cell_type": "code",
   "execution_count": 11,
   "metadata": {},
   "outputs": [
    {
     "ename": "KeyboardInterrupt",
     "evalue": "",
     "output_type": "error",
     "traceback": [
      "\u001b[0;31m---------------------------------------------------------------------------\u001b[0m",
      "\u001b[0;31mKeyboardInterrupt\u001b[0m                         Traceback (most recent call last)",
      "\u001b[0;32m<ipython-input-11-3af66efc4e83>\u001b[0m in \u001b[0;36m<module>\u001b[0;34m\u001b[0m\n\u001b[1;32m      5\u001b[0m \u001b[0;32mfor\u001b[0m \u001b[0mepoch\u001b[0m \u001b[0;32min\u001b[0m \u001b[0mrange\u001b[0m\u001b[0;34m(\u001b[0m\u001b[0mepochs\u001b[0m\u001b[0;34m)\u001b[0m\u001b[0;34m:\u001b[0m\u001b[0;34m\u001b[0m\u001b[0;34m\u001b[0m\u001b[0m\n\u001b[1;32m      6\u001b[0m     \u001b[0mmodel\u001b[0m\u001b[0;34m.\u001b[0m\u001b[0mfit_partial\u001b[0m\u001b[0;34m(\u001b[0m\u001b[0mtrain\u001b[0m\u001b[0;34m,\u001b[0m \u001b[0mepochs\u001b[0m\u001b[0;34m=\u001b[0m\u001b[0;36m1\u001b[0m\u001b[0;34m)\u001b[0m\u001b[0;34m\u001b[0m\u001b[0;34m\u001b[0m\u001b[0m\n\u001b[0;32m----> 7\u001b[0;31m     \u001b[0mwarp_auc\u001b[0m\u001b[0;34m.\u001b[0m\u001b[0mappend\u001b[0m\u001b[0;34m(\u001b[0m\u001b[0mauc_score\u001b[0m\u001b[0;34m(\u001b[0m\u001b[0mmodel\u001b[0m\u001b[0;34m,\u001b[0m \u001b[0mtest\u001b[0m\u001b[0;34m,\u001b[0m \u001b[0mtrain_interactions\u001b[0m\u001b[0;34m=\u001b[0m\u001b[0mtrain\u001b[0m\u001b[0;34m)\u001b[0m\u001b[0;34m.\u001b[0m\u001b[0mmean\u001b[0m\u001b[0;34m(\u001b[0m\u001b[0;34m)\u001b[0m\u001b[0;34m)\u001b[0m\u001b[0;34m\u001b[0m\u001b[0;34m\u001b[0m\u001b[0m\n\u001b[0m\u001b[1;32m      8\u001b[0m     \u001b[0mprint\u001b[0m\u001b[0;34m(\u001b[0m\u001b[0mepoch\u001b[0m\u001b[0;34m)\u001b[0m\u001b[0;34m\u001b[0m\u001b[0;34m\u001b[0m\u001b[0m\n",
      "\u001b[0;32m~/anaconda3/lib/python3.7/site-packages/lightfm/evaluation.py\u001b[0m in \u001b[0;36mauc_score\u001b[0;34m(model, test_interactions, train_interactions, user_features, item_features, preserve_rows, num_threads, check_intersections)\u001b[0m\n\u001b[1;32m    197\u001b[0m                                \u001b[0mitem_features\u001b[0m\u001b[0;34m=\u001b[0m\u001b[0mitem_features\u001b[0m\u001b[0;34m,\u001b[0m\u001b[0;34m\u001b[0m\u001b[0;34m\u001b[0m\u001b[0m\n\u001b[1;32m    198\u001b[0m                                \u001b[0mnum_threads\u001b[0m\u001b[0;34m=\u001b[0m\u001b[0mnum_threads\u001b[0m\u001b[0;34m,\u001b[0m\u001b[0;34m\u001b[0m\u001b[0;34m\u001b[0m\u001b[0m\n\u001b[0;32m--> 199\u001b[0;31m                                \u001b[0mcheck_intersections\u001b[0m\u001b[0;34m=\u001b[0m\u001b[0mcheck_intersections\u001b[0m\u001b[0;34m,\u001b[0m\u001b[0;34m\u001b[0m\u001b[0;34m\u001b[0m\u001b[0m\n\u001b[0m\u001b[1;32m    200\u001b[0m                                )\n\u001b[1;32m    201\u001b[0m \u001b[0;34m\u001b[0m\u001b[0m\n",
      "\u001b[0;32m~/anaconda3/lib/python3.7/site-packages/lightfm/lightfm.py\u001b[0m in \u001b[0;36mpredict_rank\u001b[0;34m(self, test_interactions, train_interactions, item_features, user_features, num_threads, check_intersections)\u001b[0m\n\u001b[1;32m    833\u001b[0m                       \u001b[0mranks\u001b[0m\u001b[0;34m.\u001b[0m\u001b[0mdata\u001b[0m\u001b[0;34m,\u001b[0m\u001b[0;34m\u001b[0m\u001b[0;34m\u001b[0m\u001b[0m\n\u001b[1;32m    834\u001b[0m                       \u001b[0mlightfm_data\u001b[0m\u001b[0;34m,\u001b[0m\u001b[0;34m\u001b[0m\u001b[0;34m\u001b[0m\u001b[0m\n\u001b[0;32m--> 835\u001b[0;31m                       num_threads)\n\u001b[0m\u001b[1;32m    836\u001b[0m \u001b[0;34m\u001b[0m\u001b[0m\n\u001b[1;32m    837\u001b[0m         \u001b[0;32mreturn\u001b[0m \u001b[0mranks\u001b[0m\u001b[0;34m\u001b[0m\u001b[0;34m\u001b[0m\u001b[0m\n",
      "\u001b[0;31mKeyboardInterrupt\u001b[0m: "
     ]
    }
   ],
   "source": [
    "epochs = 70\n",
    "warp_auc = []\n",
    "p_k = []\n",
    "r_k = []\n",
    "for epoch in range(epochs):\n",
    "    model.fit_partial(train, epochs=1)\n",
    "    warp_auc.append(auc_score(model, test, train_interactions=train).mean())\n",
    "    print(epoch)"
   ]
  },
  {
   "cell_type": "code",
   "execution_count": null,
   "metadata": {},
   "outputs": [],
   "source": [
    "x = np.arange(epochs)\n",
    "plt.plot(x, np.array(warp_auc))\n",
    "plt.legend(['WARP AUC'], loc='upper right')\n",
    "plt.show()"
   ]
  },
  {
   "cell_type": "code",
   "execution_count": 98,
   "metadata": {},
   "outputs": [],
   "source": [
    "from scipy.sparse import csr_matrix\n",
    "import numpy as np\n",
    "import pandas as pd\n",
    "from sklearn.preprocessing import LabelEncoder\n",
    "from tqdm import tqdm\n",
    "\n",
    "\n",
    "class EASE:\n",
    "    def __init__(self):\n",
    "        self.user_enc = LabelEncoder()\n",
    "        self.item_enc = LabelEncoder()\n",
    "\n",
    "    def _get_users_and_items(self, df):\n",
    "        users = self.user_enc.fit_transform(df.loc[:, 'user_id'])\n",
    "        items = self.item_enc.fit_transform(df.loc[:, 'item_id'])\n",
    "        return users, items\n",
    "\n",
    "    def fit(self, df, lambda_: float = 0.5, implicit=True):\n",
    "        \"\"\"\n",
    "        df: pandas.DataFrame with columns user_id, item_id and (rating)\n",
    "        lambda_: l2-regularization term\n",
    "        implicit: if True, ratings are ignored and taken as 1, else normalized ratings are used\n",
    "        \"\"\"\n",
    "        users, items = self._get_users_and_items(df)\n",
    "        values = np.ones(df.shape[0]) if implicit else df['rating'].to_numpy() / df['rating'].max()\n",
    "\n",
    "        X = csr_matrix((values, (users, items)))\n",
    "        self.X = X\n",
    "\n",
    "        G = X.T.dot(X).toarray()\n",
    "        diagIndices = np.diag_indices(G.shape[0])\n",
    "        G[diagIndices] += lambda_\n",
    "        P = np.linalg.inv(G)\n",
    "        B = P / (-np.diag(P))\n",
    "        B[diagIndices] = 0\n",
    "\n",
    "        self.B = B\n",
    "        self.pred = X.dot(B)\n",
    "\n",
    "    def predict(self, train, users, items, k):\n",
    "        df = pd.DataFrame()\n",
    "        items = self.item_enc.transform(items)\n",
    "        dd = train.loc[train.user_id.isin(users)]\n",
    "        dd['ci'] = self.item_enc.transform(dd.item_id)\n",
    "        dd['cu'] = self.user_enc.transform(dd.user_id)\n",
    "        g = dd.groupby('user_id')\n",
    "        for user, group in tqdm(g):\n",
    "            watched = set(group['ci'])\n",
    "            candidates = [item for item in items if item not in watched]\n",
    "            u = group['cu'].iloc[0]\n",
    "            pred = np.take(self.pred[u, :], candidates)\n",
    "            res = np.argpartition(pred, -k)[-k:]\n",
    "            r = pd.DataFrame({\n",
    "                \"user_id\": [user] * len(res),\n",
    "                \"item_id\": np.take(candidates, res),\n",
    "                \"score\": np.take(pred, res)\n",
    "            }).sort_values('score', ascending=False)\n",
    "            df = df.append(r, ignore_index=True)\n",
    "        df['item_id'] = self.item_enc.inverse_transform(df['item_id'])\n",
    "        return df\n"
   ]
  },
  {
   "cell_type": "code",
   "execution_count": 92,
   "metadata": {},
   "outputs": [],
   "source": [
    "ease = EASE()"
   ]
  },
  {
   "cell_type": "code",
   "execution_count": 93,
   "metadata": {},
   "outputs": [],
   "source": [
    "ease.fit(listen_data_small)"
   ]
  },
  {
   "cell_type": "code",
   "execution_count": 101,
   "metadata": {},
   "outputs": [
    {
     "name": "stderr",
     "output_type": "stream",
     "text": [
      "/Users/alextsai/anaconda3/lib/python3.7/site-packages/ipykernel_launcher.py:44: SettingWithCopyWarning: \n",
      "A value is trying to be set on a copy of a slice from a DataFrame.\n",
      "Try using .loc[row_indexer,col_indexer] = value instead\n",
      "\n",
      "See the caveats in the documentation: https://pandas.pydata.org/pandas-docs/stable/user_guide/indexing.html#returning-a-view-versus-a-copy\n",
      "/Users/alextsai/anaconda3/lib/python3.7/site-packages/ipykernel_launcher.py:45: SettingWithCopyWarning: \n",
      "A value is trying to be set on a copy of a slice from a DataFrame.\n",
      "Try using .loc[row_indexer,col_indexer] = value instead\n",
      "\n",
      "See the caveats in the documentation: https://pandas.pydata.org/pandas-docs/stable/user_guide/indexing.html#returning-a-view-versus-a-copy\n",
      "100%|██████████| 2/2 [00:00<00:00, 189.12it/s]\n"
     ]
    },
    {
     "data": {
      "text/html": [
       "<div>\n",
       "<style scoped>\n",
       "    .dataframe tbody tr th:only-of-type {\n",
       "        vertical-align: middle;\n",
       "    }\n",
       "\n",
       "    .dataframe tbody tr th {\n",
       "        vertical-align: top;\n",
       "    }\n",
       "\n",
       "    .dataframe thead th {\n",
       "        text-align: right;\n",
       "    }\n",
       "</style>\n",
       "<table border=\"1\" class=\"dataframe\">\n",
       "  <thead>\n",
       "    <tr style=\"text-align: right;\">\n",
       "      <th></th>\n",
       "      <th>user_id</th>\n",
       "      <th>item_id</th>\n",
       "      <th>score</th>\n",
       "    </tr>\n",
       "  </thead>\n",
       "  <tbody>\n",
       "    <tr>\n",
       "      <th>0</th>\n",
       "      <td>b80344d063b5ccb3212f76538f3d9e43d87dca9e</td>\n",
       "      <td>SOHENSJ12AAF3B2A03</td>\n",
       "      <td>0.442092</td>\n",
       "    </tr>\n",
       "    <tr>\n",
       "      <th>1</th>\n",
       "      <td>b80344d063b5ccb3212f76538f3d9e43d87dca9e</td>\n",
       "      <td>SOMBNVR12AF72A736E</td>\n",
       "      <td>0.394855</td>\n",
       "    </tr>\n",
       "    <tr>\n",
       "      <th>2</th>\n",
       "      <td>b80344d063b5ccb3212f76538f3d9e43d87dca9e</td>\n",
       "      <td>SONAZWN12A8151C957</td>\n",
       "      <td>0.361787</td>\n",
       "    </tr>\n",
       "    <tr>\n",
       "      <th>3</th>\n",
       "      <td>b80344d063b5ccb3212f76538f3d9e43d87dca9e</td>\n",
       "      <td>SOWIMTL12A8C1386DC</td>\n",
       "      <td>0.315567</td>\n",
       "    </tr>\n",
       "    <tr>\n",
       "      <th>4</th>\n",
       "      <td>b80344d063b5ccb3212f76538f3d9e43d87dca9e</td>\n",
       "      <td>SOHMFHE12AAF3B3E07</td>\n",
       "      <td>0.296127</td>\n",
       "    </tr>\n",
       "    <tr>\n",
       "      <th>5</th>\n",
       "      <td>b80344d063b5ccb3212f76538f3d9e43d87dca9e</td>\n",
       "      <td>SOYYIZT12A8C1408CA</td>\n",
       "      <td>0.275161</td>\n",
       "    </tr>\n",
       "    <tr>\n",
       "      <th>6</th>\n",
       "      <td>b80344d063b5ccb3212f76538f3d9e43d87dca9e</td>\n",
       "      <td>SOECLAD12AAF3B120A</td>\n",
       "      <td>0.249974</td>\n",
       "    </tr>\n",
       "    <tr>\n",
       "      <th>7</th>\n",
       "      <td>b80344d063b5ccb3212f76538f3d9e43d87dca9e</td>\n",
       "      <td>SOCMHGT12A8C138D8A</td>\n",
       "      <td>0.235783</td>\n",
       "    </tr>\n",
       "    <tr>\n",
       "      <th>8</th>\n",
       "      <td>b80344d063b5ccb3212f76538f3d9e43d87dca9e</td>\n",
       "      <td>SOPNLBX12A8C1377D4</td>\n",
       "      <td>0.223034</td>\n",
       "    </tr>\n",
       "    <tr>\n",
       "      <th>9</th>\n",
       "      <td>b80344d063b5ccb3212f76538f3d9e43d87dca9e</td>\n",
       "      <td>SOUGHFP12A8C13CD5D</td>\n",
       "      <td>0.222104</td>\n",
       "    </tr>\n",
       "    <tr>\n",
       "      <th>10</th>\n",
       "      <td>d8bfd4ec88f0f3773a9e022e3c1a0f1d3b7b6a92</td>\n",
       "      <td>SOLFXKT12AB017E3E0</td>\n",
       "      <td>0.544183</td>\n",
       "    </tr>\n",
       "    <tr>\n",
       "      <th>11</th>\n",
       "      <td>d8bfd4ec88f0f3773a9e022e3c1a0f1d3b7b6a92</td>\n",
       "      <td>SONYKOW12AB01849C9</td>\n",
       "      <td>0.517585</td>\n",
       "    </tr>\n",
       "    <tr>\n",
       "      <th>12</th>\n",
       "      <td>d8bfd4ec88f0f3773a9e022e3c1a0f1d3b7b6a92</td>\n",
       "      <td>SOTWNDJ12A8C143984</td>\n",
       "      <td>0.462748</td>\n",
       "    </tr>\n",
       "    <tr>\n",
       "      <th>13</th>\n",
       "      <td>d8bfd4ec88f0f3773a9e022e3c1a0f1d3b7b6a92</td>\n",
       "      <td>SORWLTW12A670208FA</td>\n",
       "      <td>0.437069</td>\n",
       "    </tr>\n",
       "    <tr>\n",
       "      <th>14</th>\n",
       "      <td>d8bfd4ec88f0f3773a9e022e3c1a0f1d3b7b6a92</td>\n",
       "      <td>SOKLRPJ12A8C13C3FE</td>\n",
       "      <td>0.408384</td>\n",
       "    </tr>\n",
       "    <tr>\n",
       "      <th>15</th>\n",
       "      <td>d8bfd4ec88f0f3773a9e022e3c1a0f1d3b7b6a92</td>\n",
       "      <td>SOXFPND12AB017C9D1</td>\n",
       "      <td>0.362155</td>\n",
       "    </tr>\n",
       "    <tr>\n",
       "      <th>16</th>\n",
       "      <td>d8bfd4ec88f0f3773a9e022e3c1a0f1d3b7b6a92</td>\n",
       "      <td>SOSXLTC12AF72A7F54</td>\n",
       "      <td>0.359179</td>\n",
       "    </tr>\n",
       "    <tr>\n",
       "      <th>17</th>\n",
       "      <td>d8bfd4ec88f0f3773a9e022e3c1a0f1d3b7b6a92</td>\n",
       "      <td>SOISNSU12AC468C0D8</td>\n",
       "      <td>0.351224</td>\n",
       "    </tr>\n",
       "    <tr>\n",
       "      <th>18</th>\n",
       "      <td>d8bfd4ec88f0f3773a9e022e3c1a0f1d3b7b6a92</td>\n",
       "      <td>SOBONKR12A58A7A7E0</td>\n",
       "      <td>0.333917</td>\n",
       "    </tr>\n",
       "    <tr>\n",
       "      <th>19</th>\n",
       "      <td>d8bfd4ec88f0f3773a9e022e3c1a0f1d3b7b6a92</td>\n",
       "      <td>SONHQJF12A8C1451AB</td>\n",
       "      <td>0.312740</td>\n",
       "    </tr>\n",
       "  </tbody>\n",
       "</table>\n",
       "</div>"
      ],
      "text/plain": [
       "                                     user_id             item_id     score\n",
       "0   b80344d063b5ccb3212f76538f3d9e43d87dca9e  SOHENSJ12AAF3B2A03  0.442092\n",
       "1   b80344d063b5ccb3212f76538f3d9e43d87dca9e  SOMBNVR12AF72A736E  0.394855\n",
       "2   b80344d063b5ccb3212f76538f3d9e43d87dca9e  SONAZWN12A8151C957  0.361787\n",
       "3   b80344d063b5ccb3212f76538f3d9e43d87dca9e  SOWIMTL12A8C1386DC  0.315567\n",
       "4   b80344d063b5ccb3212f76538f3d9e43d87dca9e  SOHMFHE12AAF3B3E07  0.296127\n",
       "5   b80344d063b5ccb3212f76538f3d9e43d87dca9e  SOYYIZT12A8C1408CA  0.275161\n",
       "6   b80344d063b5ccb3212f76538f3d9e43d87dca9e  SOECLAD12AAF3B120A  0.249974\n",
       "7   b80344d063b5ccb3212f76538f3d9e43d87dca9e  SOCMHGT12A8C138D8A  0.235783\n",
       "8   b80344d063b5ccb3212f76538f3d9e43d87dca9e  SOPNLBX12A8C1377D4  0.223034\n",
       "9   b80344d063b5ccb3212f76538f3d9e43d87dca9e  SOUGHFP12A8C13CD5D  0.222104\n",
       "10  d8bfd4ec88f0f3773a9e022e3c1a0f1d3b7b6a92  SOLFXKT12AB017E3E0  0.544183\n",
       "11  d8bfd4ec88f0f3773a9e022e3c1a0f1d3b7b6a92  SONYKOW12AB01849C9  0.517585\n",
       "12  d8bfd4ec88f0f3773a9e022e3c1a0f1d3b7b6a92  SOTWNDJ12A8C143984  0.462748\n",
       "13  d8bfd4ec88f0f3773a9e022e3c1a0f1d3b7b6a92  SORWLTW12A670208FA  0.437069\n",
       "14  d8bfd4ec88f0f3773a9e022e3c1a0f1d3b7b6a92  SOKLRPJ12A8C13C3FE  0.408384\n",
       "15  d8bfd4ec88f0f3773a9e022e3c1a0f1d3b7b6a92  SOXFPND12AB017C9D1  0.362155\n",
       "16  d8bfd4ec88f0f3773a9e022e3c1a0f1d3b7b6a92  SOSXLTC12AF72A7F54  0.359179\n",
       "17  d8bfd4ec88f0f3773a9e022e3c1a0f1d3b7b6a92  SOISNSU12AC468C0D8  0.351224\n",
       "18  d8bfd4ec88f0f3773a9e022e3c1a0f1d3b7b6a92  SOBONKR12A58A7A7E0  0.333917\n",
       "19  d8bfd4ec88f0f3773a9e022e3c1a0f1d3b7b6a92  SONHQJF12A8C1451AB  0.312740"
      ]
     },
     "execution_count": 101,
     "metadata": {},
     "output_type": "execute_result"
    }
   ],
   "source": [
    "ease.predict(listen_data_small,['b80344d063b5ccb3212f76538f3d9e43d87dca9e','d8bfd4ec88f0f3773a9e022e3c1a0f1d3b7b6a92'], items = songs.item_id, k=10)"
   ]
  },
  {
   "cell_type": "code",
   "execution_count": 97,
   "metadata": {},
   "outputs": [
    {
     "data": {
      "text/html": [
       "<div>\n",
       "<style scoped>\n",
       "    .dataframe tbody tr th:only-of-type {\n",
       "        vertical-align: middle;\n",
       "    }\n",
       "\n",
       "    .dataframe tbody tr th {\n",
       "        vertical-align: top;\n",
       "    }\n",
       "\n",
       "    .dataframe thead th {\n",
       "        text-align: right;\n",
       "    }\n",
       "</style>\n",
       "<table border=\"1\" class=\"dataframe\">\n",
       "  <thead>\n",
       "    <tr style=\"text-align: right;\">\n",
       "      <th></th>\n",
       "      <th>user_id</th>\n",
       "      <th>item_id</th>\n",
       "      <th>listen_count</th>\n",
       "    </tr>\n",
       "  </thead>\n",
       "  <tbody>\n",
       "    <tr>\n",
       "      <th>0</th>\n",
       "      <td>b80344d063b5ccb3212f76538f3d9e43d87dca9e</td>\n",
       "      <td>SOAKIMP12A8C130995</td>\n",
       "      <td>1</td>\n",
       "    </tr>\n",
       "    <tr>\n",
       "      <th>1</th>\n",
       "      <td>b80344d063b5ccb3212f76538f3d9e43d87dca9e</td>\n",
       "      <td>SOBBMDR12A8C13253B</td>\n",
       "      <td>2</td>\n",
       "    </tr>\n",
       "    <tr>\n",
       "      <th>2</th>\n",
       "      <td>b80344d063b5ccb3212f76538f3d9e43d87dca9e</td>\n",
       "      <td>SOBXHDL12A81C204C0</td>\n",
       "      <td>1</td>\n",
       "    </tr>\n",
       "    <tr>\n",
       "      <th>3</th>\n",
       "      <td>b80344d063b5ccb3212f76538f3d9e43d87dca9e</td>\n",
       "      <td>SOBYHAJ12A6701BF1D</td>\n",
       "      <td>1</td>\n",
       "    </tr>\n",
       "    <tr>\n",
       "      <th>4</th>\n",
       "      <td>b80344d063b5ccb3212f76538f3d9e43d87dca9e</td>\n",
       "      <td>SODACBL12A8C13C273</td>\n",
       "      <td>1</td>\n",
       "    </tr>\n",
       "    <tr>\n",
       "      <th>...</th>\n",
       "      <td>...</td>\n",
       "      <td>...</td>\n",
       "      <td>...</td>\n",
       "    </tr>\n",
       "    <tr>\n",
       "      <th>1999995</th>\n",
       "      <td>d8bfd4ec88f0f3773a9e022e3c1a0f1d3b7b6a92</td>\n",
       "      <td>SOJEYPO12AAA8C6B0E</td>\n",
       "      <td>2</td>\n",
       "    </tr>\n",
       "    <tr>\n",
       "      <th>1999996</th>\n",
       "      <td>d8bfd4ec88f0f3773a9e022e3c1a0f1d3b7b6a92</td>\n",
       "      <td>SOJJYDE12AF729FC16</td>\n",
       "      <td>4</td>\n",
       "    </tr>\n",
       "    <tr>\n",
       "      <th>1999997</th>\n",
       "      <td>d8bfd4ec88f0f3773a9e022e3c1a0f1d3b7b6a92</td>\n",
       "      <td>SOJKQSF12A6D4F5EE9</td>\n",
       "      <td>3</td>\n",
       "    </tr>\n",
       "    <tr>\n",
       "      <th>1999998</th>\n",
       "      <td>d8bfd4ec88f0f3773a9e022e3c1a0f1d3b7b6a92</td>\n",
       "      <td>SOJUXGA12AC961885C</td>\n",
       "      <td>1</td>\n",
       "    </tr>\n",
       "    <tr>\n",
       "      <th>1999999</th>\n",
       "      <td>d8bfd4ec88f0f3773a9e022e3c1a0f1d3b7b6a92</td>\n",
       "      <td>SOJYOLS12A8C13C06F</td>\n",
       "      <td>1</td>\n",
       "    </tr>\n",
       "  </tbody>\n",
       "</table>\n",
       "<p>2000000 rows × 3 columns</p>\n",
       "</div>"
      ],
      "text/plain": [
       "                                          user_id             item_id  \\\n",
       "0        b80344d063b5ccb3212f76538f3d9e43d87dca9e  SOAKIMP12A8C130995   \n",
       "1        b80344d063b5ccb3212f76538f3d9e43d87dca9e  SOBBMDR12A8C13253B   \n",
       "2        b80344d063b5ccb3212f76538f3d9e43d87dca9e  SOBXHDL12A81C204C0   \n",
       "3        b80344d063b5ccb3212f76538f3d9e43d87dca9e  SOBYHAJ12A6701BF1D   \n",
       "4        b80344d063b5ccb3212f76538f3d9e43d87dca9e  SODACBL12A8C13C273   \n",
       "...                                           ...                 ...   \n",
       "1999995  d8bfd4ec88f0f3773a9e022e3c1a0f1d3b7b6a92  SOJEYPO12AAA8C6B0E   \n",
       "1999996  d8bfd4ec88f0f3773a9e022e3c1a0f1d3b7b6a92  SOJJYDE12AF729FC16   \n",
       "1999997  d8bfd4ec88f0f3773a9e022e3c1a0f1d3b7b6a92  SOJKQSF12A6D4F5EE9   \n",
       "1999998  d8bfd4ec88f0f3773a9e022e3c1a0f1d3b7b6a92  SOJUXGA12AC961885C   \n",
       "1999999  d8bfd4ec88f0f3773a9e022e3c1a0f1d3b7b6a92  SOJYOLS12A8C13C06F   \n",
       "\n",
       "         listen_count  \n",
       "0                   1  \n",
       "1                   2  \n",
       "2                   1  \n",
       "3                   1  \n",
       "4                   1  \n",
       "...               ...  \n",
       "1999995             2  \n",
       "1999996             4  \n",
       "1999997             3  \n",
       "1999998             1  \n",
       "1999999             1  \n",
       "\n",
       "[2000000 rows x 3 columns]"
      ]
     },
     "execution_count": 97,
     "metadata": {},
     "output_type": "execute_result"
    }
   ],
   "source": [
    "listen_data_small"
   ]
  },
  {
   "cell_type": "code",
   "execution_count": null,
   "metadata": {},
   "outputs": [],
   "source": []
  }
 ],
 "metadata": {
  "kernelspec": {
   "display_name": "Python 3",
   "language": "python",
   "name": "python3"
  },
  "language_info": {
   "codemirror_mode": {
    "name": "ipython",
    "version": 3
   },
   "file_extension": ".py",
   "mimetype": "text/x-python",
   "name": "python",
   "nbconvert_exporter": "python",
   "pygments_lexer": "ipython3",
   "version": "3.7.7"
  }
 },
 "nbformat": 4,
 "nbformat_minor": 4
}
